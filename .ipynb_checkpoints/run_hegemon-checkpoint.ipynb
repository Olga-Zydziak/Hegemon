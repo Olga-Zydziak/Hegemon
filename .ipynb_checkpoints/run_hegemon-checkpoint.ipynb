{
 "cells": [
  {
   "cell_type": "code",
   "execution_count": 11,
   "id": "a3126fe7-bc63-4797-b7e6-d490ca636d9d",
   "metadata": {
    "tags": []
   },
   "outputs": [
    {
     "name": "stdout",
     "output_type": "stream",
     "text": [
      "Collecting langchain-community\n",
      "  Downloading langchain_community-0.3.30-py3-none-any.whl.metadata (3.0 kB)\n",
      "Requirement already satisfied: langchain-core<2.0.0,>=0.3.75 in /opt/conda/envs/hegemon_env/lib/python3.11/site-packages (from langchain-community) (0.3.76)\n",
      "Requirement already satisfied: langchain<2.0.0,>=0.3.27 in /opt/conda/envs/hegemon_env/lib/python3.11/site-packages (from langchain-community) (0.3.27)\n",
      "Requirement already satisfied: SQLAlchemy<3.0.0,>=1.4.0 in /opt/conda/envs/hegemon_env/lib/python3.11/site-packages (from langchain-community) (2.0.43)\n",
      "Requirement already satisfied: requests<3.0.0,>=2.32.5 in /opt/conda/envs/hegemon_env/lib/python3.11/site-packages (from langchain-community) (2.32.5)\n",
      "Requirement already satisfied: PyYAML<7.0.0,>=5.3.0 in /opt/conda/envs/hegemon_env/lib/python3.11/site-packages (from langchain-community) (6.0.3)\n",
      "Collecting aiohttp<4.0.0,>=3.8.3 (from langchain-community)\n",
      "  Using cached aiohttp-3.12.15-cp311-cp311-manylinux_2_17_x86_64.manylinux2014_x86_64.whl.metadata (7.7 kB)\n",
      "Requirement already satisfied: tenacity!=8.4.0,<10.0.0,>=8.1.0 in /opt/conda/envs/hegemon_env/lib/python3.11/site-packages (from langchain-community) (9.0.0)\n",
      "Collecting dataclasses-json<0.7.0,>=0.6.7 (from langchain-community)\n",
      "  Using cached dataclasses_json-0.6.7-py3-none-any.whl.metadata (25 kB)\n",
      "Requirement already satisfied: pydantic-settings<3.0.0,>=2.10.1 in /opt/conda/envs/hegemon_env/lib/python3.11/site-packages (from langchain-community) (2.11.0)\n",
      "Requirement already satisfied: langsmith<1.0.0,>=0.1.125 in /opt/conda/envs/hegemon_env/lib/python3.11/site-packages (from langchain-community) (0.4.31)\n",
      "Requirement already satisfied: httpx-sse<1.0.0,>=0.4.0 in /opt/conda/envs/hegemon_env/lib/python3.11/site-packages (from langchain-community) (0.4.1)\n",
      "Requirement already satisfied: numpy>=1.26.2 in /opt/conda/envs/hegemon_env/lib/python3.11/site-packages (from langchain-community) (2.3.3)\n",
      "Collecting aiohappyeyeballs>=2.5.0 (from aiohttp<4.0.0,>=3.8.3->langchain-community)\n",
      "  Using cached aiohappyeyeballs-2.6.1-py3-none-any.whl.metadata (5.9 kB)\n",
      "Collecting aiosignal>=1.4.0 (from aiohttp<4.0.0,>=3.8.3->langchain-community)\n",
      "  Using cached aiosignal-1.4.0-py3-none-any.whl.metadata (3.7 kB)\n",
      "Collecting attrs>=17.3.0 (from aiohttp<4.0.0,>=3.8.3->langchain-community)\n",
      "  Using cached attrs-25.3.0-py3-none-any.whl.metadata (10 kB)\n",
      "Collecting frozenlist>=1.1.1 (from aiohttp<4.0.0,>=3.8.3->langchain-community)\n",
      "  Using cached frozenlist-1.7.0-cp311-cp311-manylinux_2_5_x86_64.manylinux1_x86_64.manylinux_2_17_x86_64.manylinux2014_x86_64.whl.metadata (18 kB)\n",
      "Collecting multidict<7.0,>=4.5 (from aiohttp<4.0.0,>=3.8.3->langchain-community)\n",
      "  Using cached multidict-6.6.4-cp311-cp311-manylinux2014_x86_64.manylinux_2_17_x86_64.manylinux_2_28_x86_64.whl.metadata (5.3 kB)\n",
      "Collecting propcache>=0.2.0 (from aiohttp<4.0.0,>=3.8.3->langchain-community)\n",
      "  Using cached propcache-0.3.2-cp311-cp311-manylinux_2_17_x86_64.manylinux2014_x86_64.whl.metadata (12 kB)\n",
      "Collecting yarl<2.0,>=1.17.0 (from aiohttp<4.0.0,>=3.8.3->langchain-community)\n",
      "  Using cached yarl-1.20.1-cp311-cp311-manylinux_2_17_x86_64.manylinux2014_x86_64.whl.metadata (73 kB)\n",
      "Collecting marshmallow<4.0.0,>=3.18.0 (from dataclasses-json<0.7.0,>=0.6.7->langchain-community)\n",
      "  Using cached marshmallow-3.26.1-py3-none-any.whl.metadata (7.3 kB)\n",
      "Collecting typing-inspect<1,>=0.4.0 (from dataclasses-json<0.7.0,>=0.6.7->langchain-community)\n",
      "  Using cached typing_inspect-0.9.0-py3-none-any.whl.metadata (1.5 kB)\n",
      "Requirement already satisfied: langchain-text-splitters<1.0.0,>=0.3.9 in /opt/conda/envs/hegemon_env/lib/python3.11/site-packages (from langchain<2.0.0,>=0.3.27->langchain-community) (0.3.11)\n",
      "Requirement already satisfied: pydantic<3.0.0,>=2.7.4 in /opt/conda/envs/hegemon_env/lib/python3.11/site-packages (from langchain<2.0.0,>=0.3.27->langchain-community) (2.11.9)\n",
      "Requirement already satisfied: jsonpatch<2.0,>=1.33 in /opt/conda/envs/hegemon_env/lib/python3.11/site-packages (from langchain-core<2.0.0,>=0.3.75->langchain-community) (1.33)\n",
      "Requirement already satisfied: typing-extensions>=4.7 in /opt/conda/envs/hegemon_env/lib/python3.11/site-packages (from langchain-core<2.0.0,>=0.3.75->langchain-community) (4.15.0)\n",
      "Requirement already satisfied: packaging>=23.2 in /opt/conda/envs/hegemon_env/lib/python3.11/site-packages (from langchain-core<2.0.0,>=0.3.75->langchain-community) (25.0)\n",
      "Requirement already satisfied: jsonpointer>=1.9 in /opt/conda/envs/hegemon_env/lib/python3.11/site-packages (from jsonpatch<2.0,>=1.33->langchain-core<2.0.0,>=0.3.75->langchain-community) (3.0.0)\n",
      "Requirement already satisfied: httpx<1,>=0.23.0 in /opt/conda/envs/hegemon_env/lib/python3.11/site-packages (from langsmith<1.0.0,>=0.1.125->langchain-community) (0.28.1)\n",
      "Requirement already satisfied: orjson>=3.9.14 in /opt/conda/envs/hegemon_env/lib/python3.11/site-packages (from langsmith<1.0.0,>=0.1.125->langchain-community) (3.11.3)\n",
      "Requirement already satisfied: requests-toolbelt>=1.0.0 in /opt/conda/envs/hegemon_env/lib/python3.11/site-packages (from langsmith<1.0.0,>=0.1.125->langchain-community) (1.0.0)\n",
      "Requirement already satisfied: zstandard>=0.23.0 in /opt/conda/envs/hegemon_env/lib/python3.11/site-packages (from langsmith<1.0.0,>=0.1.125->langchain-community) (0.25.0)\n",
      "Requirement already satisfied: anyio in /opt/conda/envs/hegemon_env/lib/python3.11/site-packages (from httpx<1,>=0.23.0->langsmith<1.0.0,>=0.1.125->langchain-community) (4.11.0)\n",
      "Requirement already satisfied: certifi in /opt/conda/envs/hegemon_env/lib/python3.11/site-packages (from httpx<1,>=0.23.0->langsmith<1.0.0,>=0.1.125->langchain-community) (2025.8.3)\n",
      "Requirement already satisfied: httpcore==1.* in /opt/conda/envs/hegemon_env/lib/python3.11/site-packages (from httpx<1,>=0.23.0->langsmith<1.0.0,>=0.1.125->langchain-community) (1.0.9)\n",
      "Requirement already satisfied: idna in /opt/conda/envs/hegemon_env/lib/python3.11/site-packages (from httpx<1,>=0.23.0->langsmith<1.0.0,>=0.1.125->langchain-community) (3.10)\n",
      "Requirement already satisfied: h11>=0.16 in /opt/conda/envs/hegemon_env/lib/python3.11/site-packages (from httpcore==1.*->httpx<1,>=0.23.0->langsmith<1.0.0,>=0.1.125->langchain-community) (0.16.0)\n",
      "Requirement already satisfied: annotated-types>=0.6.0 in /opt/conda/envs/hegemon_env/lib/python3.11/site-packages (from pydantic<3.0.0,>=2.7.4->langchain<2.0.0,>=0.3.27->langchain-community) (0.7.0)\n",
      "Requirement already satisfied: pydantic-core==2.33.2 in /opt/conda/envs/hegemon_env/lib/python3.11/site-packages (from pydantic<3.0.0,>=2.7.4->langchain<2.0.0,>=0.3.27->langchain-community) (2.33.2)\n",
      "Requirement already satisfied: typing-inspection>=0.4.0 in /opt/conda/envs/hegemon_env/lib/python3.11/site-packages (from pydantic<3.0.0,>=2.7.4->langchain<2.0.0,>=0.3.27->langchain-community) (0.4.1)\n",
      "Requirement already satisfied: python-dotenv>=0.21.0 in /opt/conda/envs/hegemon_env/lib/python3.11/site-packages (from pydantic-settings<3.0.0,>=2.10.1->langchain-community) (1.1.1)\n",
      "Requirement already satisfied: charset_normalizer<4,>=2 in /opt/conda/envs/hegemon_env/lib/python3.11/site-packages (from requests<3.0.0,>=2.32.5->langchain-community) (3.4.3)\n",
      "Requirement already satisfied: urllib3<3,>=1.21.1 in /opt/conda/envs/hegemon_env/lib/python3.11/site-packages (from requests<3.0.0,>=2.32.5->langchain-community) (2.5.0)\n",
      "Requirement already satisfied: greenlet>=1 in /opt/conda/envs/hegemon_env/lib/python3.11/site-packages (from SQLAlchemy<3.0.0,>=1.4.0->langchain-community) (3.2.4)\n",
      "Requirement already satisfied: mypy-extensions>=0.3.0 in /opt/conda/envs/hegemon_env/lib/python3.11/site-packages (from typing-inspect<1,>=0.4.0->dataclasses-json<0.7.0,>=0.6.7->langchain-community) (1.1.0)\n",
      "Requirement already satisfied: sniffio>=1.1 in /opt/conda/envs/hegemon_env/lib/python3.11/site-packages (from anyio->httpx<1,>=0.23.0->langsmith<1.0.0,>=0.1.125->langchain-community) (1.3.1)\n",
      "Downloading langchain_community-0.3.30-py3-none-any.whl (2.5 MB)\n",
      "\u001b[2K   \u001b[90m━━━━━━━━━━━━━━━━━━━━━━━━━━━━━━━━━━━━━━━━\u001b[0m \u001b[32m2.5/2.5 MB\u001b[0m \u001b[31m45.9 MB/s\u001b[0m  \u001b[33m0:00:00\u001b[0m\n",
      "\u001b[?25hUsing cached aiohttp-3.12.15-cp311-cp311-manylinux_2_17_x86_64.manylinux2014_x86_64.whl (1.7 MB)\n",
      "Using cached dataclasses_json-0.6.7-py3-none-any.whl (28 kB)\n",
      "Using cached marshmallow-3.26.1-py3-none-any.whl (50 kB)\n",
      "Using cached multidict-6.6.4-cp311-cp311-manylinux2014_x86_64.manylinux_2_17_x86_64.manylinux_2_28_x86_64.whl (246 kB)\n",
      "Using cached typing_inspect-0.9.0-py3-none-any.whl (8.8 kB)\n",
      "Using cached yarl-1.20.1-cp311-cp311-manylinux_2_17_x86_64.manylinux2014_x86_64.whl (348 kB)\n",
      "Using cached aiohappyeyeballs-2.6.1-py3-none-any.whl (15 kB)\n",
      "Using cached aiosignal-1.4.0-py3-none-any.whl (7.5 kB)\n",
      "Using cached attrs-25.3.0-py3-none-any.whl (63 kB)\n",
      "Using cached frozenlist-1.7.0-cp311-cp311-manylinux_2_5_x86_64.manylinux1_x86_64.manylinux_2_17_x86_64.manylinux2014_x86_64.whl (235 kB)\n",
      "Using cached propcache-0.3.2-cp311-cp311-manylinux_2_17_x86_64.manylinux2014_x86_64.whl (213 kB)\n",
      "Installing collected packages: typing-inspect, propcache, multidict, marshmallow, frozenlist, attrs, aiohappyeyeballs, yarl, dataclasses-json, aiosignal, aiohttp, langchain-community\n",
      "\u001b[2K   \u001b[90m━━━━━━━━━━━━━━━━━━━━━━━━━━━━━━━━━━━━━━━━\u001b[0m \u001b[32m12/12\u001b[0m [langchain-community]ngchain-community]\n",
      "\u001b[1A\u001b[2KSuccessfully installed aiohappyeyeballs-2.6.1 aiohttp-3.12.15 aiosignal-1.4.0 attrs-25.3.0 dataclasses-json-0.6.7 frozenlist-1.7.0 langchain-community-0.3.30 marshmallow-3.26.1 multidict-6.6.4 propcache-0.3.2 typing-inspect-0.9.0 yarl-1.20.1\n",
      "Note: you may need to restart the kernel to use updated packages.\n"
     ]
    }
   ],
   "source": [
    "%pip install langchain-community"
   ]
  },
  {
   "cell_type": "code",
   "execution_count": 2,
   "id": "64bce2f0-1cc2-46d9-b443-d0061c19fcff",
   "metadata": {
    "tags": []
   },
   "outputs": [
    {
     "name": "stdout",
     "output_type": "stream",
     "text": [
      "📍 GCP Project: dark-data-discovery\n",
      "📍 Location: us-central1\n"
     ]
    }
   ],
   "source": [
    "import sys\n",
    "import logging\n",
    "from pathlib import Path\n",
    "\n",
    "logging.basicConfig(level=logging.INFO, format='%(asctime)s - %(levelname)s - %(message)s')\n",
    "logger = logging.getLogger(__name__)\n",
    "\n",
    "PROJECT_ID = \"dark-data-discovery\"\n",
    "LOCATION = \"us-central1\"\n",
    "\n",
    "print(f\"📍 GCP Project: {PROJECT_ID}\")\n",
    "print(f\"📍 Location: {LOCATION}\")"
   ]
  },
  {
   "cell_type": "code",
   "execution_count": 3,
   "id": "6debd960-7fc2-4dbe-b4d3-13c8fc609d58",
   "metadata": {
    "tags": []
   },
   "outputs": [
    {
     "name": "stdout",
     "output_type": "stream",
     "text": [
      "✅ ANTHROPIC_API_KEY: **********uwAA\n"
     ]
    }
   ],
   "source": [
    "from google.cloud import secretmanager\n",
    "\n",
    "def get_secret(project_id, secret_id, version_id=\"latest\"):\n",
    "    client = secretmanager.SecretManagerServiceClient()\n",
    "    name = f\"projects/{project_id}/secrets/{secret_id}/versions/{version_id}\"\n",
    "    response = client.access_secret_version(request={\"name\": name})\n",
    "    return response.payload.data.decode(\"UTF-8\")\n",
    "\n",
    "try:\n",
    "    key = get_secret(PROJECT_ID, \"ANTHROPIC_API_KEY\")\n",
    "    print(f\"✅ ANTHROPIC_API_KEY: {'*' * 10}{key[-4:]}\")\n",
    "except Exception as e:\n",
    "    print(f\"❌ Failed to get ANTHROPIC_API_KEY: {e}\")"
   ]
  },
  {
   "cell_type": "code",
   "execution_count": 4,
   "id": "72bf7c89-92bb-4c40-9045-a17b8177f1bb",
   "metadata": {
    "tags": []
   },
   "outputs": [
    {
     "name": "stderr",
     "output_type": "stream",
     "text": [
      "2025-10-01 09:32:33,630 - INFO - ✅ ANTHROPIC_API_KEY loaded from Secret Manager\n",
      "2025-10-01 09:32:33,631 - INFO - ✅ Google Gemini will use Vertex AI (ADC authentication)\n",
      "2025-10-01 09:32:33,729 - INFO - ✅ OPENAI_API_KEY loaded from Secret Manager\n"
     ]
    },
    {
     "name": "stdout",
     "output_type": "stream",
     "text": [
      "✅ HEGEMON imported!\n",
      "Version: 0.1.0\n"
     ]
    }
   ],
   "source": [
    "from hegemon import create_hegemon_graph, get_settings, DebateState, FinalPlan\n",
    "\n",
    "print(\"✅ HEGEMON imported!\")\n",
    "print(f\"Version: {__import__('hegemon').__version__}\")"
   ]
  },
  {
   "cell_type": "code",
   "execution_count": 5,
   "id": "e7ff6b2a-133c-414d-b32a-f092284ae1d5",
   "metadata": {
    "tags": []
   },
   "outputs": [
    {
     "name": "stderr",
     "output_type": "stream",
     "text": [
      "2025-10-01 09:32:37,001 - INFO - ✅ Sceptyk will use Vertex AI (Application Default Credentials)\n",
      "2025-10-01 09:32:37,002 - INFO - ✅ All required authentication validated\n",
      "2025-10-01 09:32:37,003 - INFO - ✅ HEGEMON Settings initialized (GCP Project: dark-data-discovery)\n"
     ]
    },
    {
     "name": "stdout",
     "output_type": "stream",
     "text": [
      "✅ Settings initialized\n",
      "\n",
      "Configuration:\n",
      "  Project: dark-data-discovery\n",
      "  Location: us-central1\n",
      "  Katalizator: claude-sonnet-4-5-20250929 (anthropic)\n",
      "  Sceptyk: gemini-2.5-pro (google, Vertex AI: True)\n",
      "  Gubernator: claude-sonnet-4-5-20250929 (anthropic)\n",
      "  Syntezator: claude-opus-4-1-20250805 (anthropic)\n",
      "\n",
      "Debate Config:\n",
      "  Consensus threshold: 0.7\n",
      "  Max cycles: 5\n"
     ]
    }
   ],
   "source": [
    "settings = get_settings()\n",
    "\n",
    "print(f\"✅ Settings initialized\")\n",
    "print(f\"\\nConfiguration:\")\n",
    "print(f\"  Project: {settings.gcp_project_id}\")\n",
    "print(f\"  Location: {settings.gcp_location}\")\n",
    "print(f\"  Katalizator: {settings.katalizator.model} ({settings.katalizator.provider})\")\n",
    "print(f\"  Sceptyk: {settings.sceptyk.model} ({settings.sceptyk.provider}, Vertex AI: {settings.sceptyk.use_vertex_ai})\")\n",
    "print(f\"  Gubernator: {settings.gubernator.model} ({settings.gubernator.provider})\")\n",
    "print(f\"  Syntezator: {settings.syntezator.model} ({settings.syntezator.provider})\")\n",
    "print(f\"\\nDebate Config:\")\n",
    "print(f\"  Consensus threshold: {settings.debate.consensus_threshold}\")\n",
    "print(f\"  Max cycles: {settings.debate.max_cycles}\")"
   ]
  },
  {
   "cell_type": "code",
   "execution_count": 6,
   "id": "4737b9e7-6597-41c0-9818-2ee5b91f39e2",
   "metadata": {
    "tags": []
   },
   "outputs": [
    {
     "name": "stderr",
     "output_type": "stream",
     "text": [
      "2025-10-01 09:32:37,011 - INFO - 🏗️ Building HEGEMON graph...\n",
      "2025-10-01 09:32:37,027 - INFO - ✅ HEGEMON graph compiled successfully!\n",
      "2025-10-01 09:32:37,028 - INFO -    Nodes: ['__start__', 'katalizator', 'sceptyk', 'gubernator', 'syntezator', 'increment_cycle']\n"
     ]
    },
    {
     "name": "stdout",
     "output_type": "stream",
     "text": [
      "✅ HEGEMON graph created!\n",
      "\n",
      "Graph structure:\n",
      "  Nodes: ['__start__', 'katalizator', 'sceptyk', 'gubernator', 'syntezator', 'increment_cycle']\n"
     ]
    }
   ],
   "source": [
    "graph = create_hegemon_graph()\n",
    "\n",
    "print(\"✅ HEGEMON graph created!\")\n",
    "print(f\"\\nGraph structure:\")\n",
    "print(f\"  Nodes: {list(graph.nodes.keys())}\")"
   ]
  },
  {
   "cell_type": "code",
   "execution_count": null,
   "id": "c239a264-7bdd-4d48-8596-d103ddf08a6c",
   "metadata": {
    "tags": []
   },
   "outputs": [],
   "source": [
    "MISSION = \"\"\"\n",
    "Design automated book layout pipeline using InDesign scripting for 280-page \n",
    "technical programming book, executable by AI agents with access to Adobe InDesign API, \n",
    "Python scripting, and document processing tools.\n",
    "\n",
    "BOOK SPECIFICATIONS:\n",
    "- Title: \"Advanced Python Patterns: A Practitioner's Guide\"\n",
    "- Content: 12 chapters, 280 pages (pre-formatted manuscript in Markdown/LaTeX)\n",
    "- Format: 7\" x 10\" trade paperback (Crown Quarto)\n",
    "- Output: Print-ready PDF (IngramSpark specs) + ePub\n",
    "- Audience: professional software engineers\n",
    "\n",
    "CONTENT COMPLEXITY:\n",
    "- 50 code blocks (10-200 lines each, Python syntax highlighting)\n",
    "- 30 technical diagrams (provided as SVG/PNG, 300 DPI)\n",
    "- Mathematical notation (LaTeX format in source)\n",
    "- 3 callout box types with structured markup\n",
    "- Index: 500+ entries (extractable from source annotations)\n",
    "- Bibliography: 120 citations (BibTeX format provided)\n",
    "\n",
    "EXECUTION CONSTRAINTS (AI-OPTIMIZED):\n",
    "- Timeline: Complete pipeline execution in <24 hours wall-clock time\n",
    "- Compute budget: $50 total (API calls, cloud compute)\n",
    "- Tools available to agents:\n",
    "  * InDesign Server API (scripting via ExtendScript/JavaScript)\n",
    "  * Python 3.11+ with libraries: reportlab, PyPDF2, lxml, beautifulsoup4\n",
    "  * Pandoc for format conversion (Markdown → ICML)\n",
    "  * Pygments for syntax highlighting (pre-processing step)\n",
    "  * Adobe Preflight API for PDF/X validation\n",
    "  * PAC 2024 for WCAG accessibility checking\n",
    "- Manuscript format: Structured Markdown with frontmatter (YAML metadata)\n",
    "- No human-in-loop approvals (fully automated validation)\n",
    "\n",
    "AUTOMATION REQUIREMENTS:\n",
    "- Template generation: Programmatic master page creation via InDesign scripting\n",
    "- Style application: Paragraph/character styles applied via GREP and scripting\n",
    "- Code highlighting: Pre-process with Pygments, import as styled text\n",
    "- Figure placement: Automated anchoring based on markup (e.g., `![Figure 3.2](path/to/diagram.svg)`)\n",
    "- Index generation: Extract from `\\index{term}` tags in source, auto-generate with InDesign API\n",
    "- Cross-references: Automated figure/table numbering via InDesign cross-ref system\n",
    "- Accessibility tagging: Automated structure tags based on semantic HTML export from Pandoc\n",
    "\n",
    "DELIVERABLES (ALL PROGRAMMATICALLY GENERATED):\n",
    "- InDesign template (.indt) created via scripting\n",
    "- Print-ready PDF/X-1a passing Adobe Preflight (0 errors)\n",
    "- Tagged PDF passing PAC accessibility check (WCAG 2.1 AA)\n",
    "- ePub 3.0 with reflowable layout\n",
    "- Automated validation report (JSON format with all quality metrics)\n",
    "- Reproducible pipeline (Docker container or shell script)\n",
    "\n",
    "SUCCESS METRICS (AUTOMATED VALIDATION):\n",
    "- IngramSpark preflight: PASS with 0 critical errors\n",
    "- Accessibility check: PASS with 0 WCAG 2.1 AA violations\n",
    "- Code font legibility: 9pt minimum (validated via PDF text extraction)\n",
    "- Index accuracy: Auto-generated, cross-checked against source tags\n",
    "- Build reproducibility: Pipeline runs identically on re-execution\n",
    "- Processing time: <4 hours for full 280-page layout\n",
    "- API cost: <$50 (primarily InDesign Server API calls + LLM tool use)\n",
    "\n",
    "TECHNICAL SPECIFICATIONS:\n",
    "- Print: 300 DPI, CMYK (Coated FOGRA39), 0.125\" bleed, PDF/X-1a:2001\n",
    "- Typography: \n",
    "  * Body: Minion Pro 10.75pt (embedded subset)\n",
    "  * Headings: Myriad Pro (4 levels: 24pt, 18pt, 14pt, 12pt)\n",
    "  * Code: Source Code Pro 9pt (monospace)\n",
    "- Color: Black + Pantone 2738 C (accent - converted to CMYK for print)\n",
    "- Page geometry: 7\" × 10\", margins (inner: 0.75\", outer: 1.5\", top: 0.75\", bottom: 1\")\n",
    "\n",
    "AGENT CAPABILITIES ASSUMED:\n",
    "- Code execution: Python, JavaScript (ExtendScript)\n",
    "- File operations: Read/write local filesystem, download from URLs\n",
    "- API calls: REST APIs (InDesign Server, Preflight services)\n",
    "- Document parsing: Markdown, LaTeX, YAML, XML (ICML), JSON\n",
    "- Text processing: Regex, GREP patterns, string manipulation\n",
    "- Validation: PDF analysis, accessibility tree inspection\n",
    "\n",
    "FAILURE MODES TO HANDLE:\n",
    "- Invalid source markup → Validation error with line numbers\n",
    "- Missing diagrams → Placeholder with error message in output\n",
    "- Font embedding issues → Fallback to safe font list\n",
    "- CMYK conversion problems → Use sRGB with warning flag\n",
    "- Preflight failures → Return detailed error report for manual review\n",
    "\n",
    "OUTPUT FORMAT:\n",
    "Execution plan must specify:\n",
    "1. Agent roles with specific tools assigned\n",
    "2. Workflow as DAG with parallelizable steps\n",
    "3. Automated validation checkpoints (not human approval)\n",
    "4. Error handling and retry logic\n",
    "5. Cost estimation per step (API calls, compute time)\n",
    "6. Final deliverable verification (checksums, validation reports)\n",
    "\"\"\"\n",
    "\n",
    "print(\"📋 Mission defined:\")\n",
    "print(MISSION)"
   ]
  },
  {
   "cell_type": "code",
   "execution_count": 8,
   "id": "5be7cda2-129b-428e-9454-c2e96c57309d",
   "metadata": {
    "tags": []
   },
   "outputs": [
    {
     "name": "stderr",
     "output_type": "stream",
     "text": [
      "2025-10-01 09:32:37,054 - INFO - 🔥 KATALIZATOR (anthropic/claude-sonnet-4-5-20250929): Generating Thesis (Cycle 1)\n"
     ]
    },
    {
     "name": "stdout",
     "output_type": "stream",
     "text": [
      "🚀 Starting HEGEMON debate...\n",
      "\n",
      "================================================================================\n"
     ]
    },
    {
     "name": "stderr",
     "output_type": "stream",
     "text": [
      "2025-10-01 09:32:55,735 - INFO - HTTP Request: POST https://api.anthropic.com/v1/messages \"HTTP/1.1 200 OK\"\n",
      "2025-10-01 09:32:55,756 - INFO - ✅ KATALIZATOR: Thesis generated (2505 chars)\n",
      "2025-10-01 09:32:55,759 - INFO - ⚔️ SCEPTYK (google/gemini-2.5-pro via Vertex AI): Generating Antithesis (Cycle 1)\n",
      "2025-10-01 09:32:55,760 - WARNING - Unexpected argument 'timeout' provided to ChatVertexAI.\n",
      "/home/jupyter/olga_zydziak/version_beta/Folder/hegemon_mvp/hegemon/agents.py:219: UserWarning: WARNING! timeout is not default parameter.\n",
      "                timeout was transferred to model_kwargs.\n",
      "                Please confirm that timeout is what you intended.\n",
      "  llm = get_llm_for_agent(\"Sceptyk\")\n",
      "2025-10-01 09:33:21,033 - INFO - ✅ SCEPTYK: Antithesis generated (2312 chars)\n",
      "2025-10-01 09:33:21,035 - INFO - ⚖️ GUBERNATOR (anthropic/claude-sonnet-4-5-20250929): Evaluating Consensus (Cycle 1)\n",
      "2025-10-01 09:33:33,686 - INFO - HTTP Request: POST https://api.anthropic.com/v1/messages \"HTTP/1.1 200 OK\"\n",
      "2025-10-01 09:33:33,690 - INFO - ✅ GUBERNATOR: Consensus Score = 0.45\n",
      "2025-10-01 09:33:33,691 - INFO - 🔄 Consensus too low (0.45 < 0.7). Continuing debate (cycle 2).\n",
      "2025-10-01 09:33:33,693 - INFO - 📈 Starting debate cycle 2\n",
      "2025-10-01 09:33:33,694 - INFO - 🔥 KATALIZATOR (anthropic/claude-sonnet-4-5-20250929): Generating Thesis (Cycle 2)\n",
      "2025-10-01 09:33:52,439 - INFO - HTTP Request: POST https://api.anthropic.com/v1/messages \"HTTP/1.1 200 OK\"\n",
      "2025-10-01 09:33:52,441 - INFO - ✅ KATALIZATOR: Thesis generated (2356 chars)\n",
      "2025-10-01 09:33:52,443 - INFO - ⚔️ SCEPTYK (google/gemini-2.5-pro via Vertex AI): Generating Antithesis (Cycle 2)\n",
      "2025-10-01 09:33:52,444 - WARNING - Unexpected argument 'timeout' provided to ChatVertexAI.\n",
      "2025-10-01 09:34:18,778 - INFO - ✅ SCEPTYK: Antithesis generated (2336 chars)\n",
      "2025-10-01 09:34:18,780 - INFO - ⚖️ GUBERNATOR (anthropic/claude-sonnet-4-5-20250929): Evaluating Consensus (Cycle 2)\n",
      "2025-10-01 09:34:33,288 - INFO - HTTP Request: POST https://api.anthropic.com/v1/messages \"HTTP/1.1 200 OK\"\n",
      "2025-10-01 09:34:33,292 - INFO - ✅ GUBERNATOR: Consensus Score = 0.58\n",
      "2025-10-01 09:34:33,293 - INFO - 🔄 Consensus too low (0.58 < 0.7). Continuing debate (cycle 3).\n",
      "2025-10-01 09:34:33,295 - INFO - 📈 Starting debate cycle 3\n",
      "2025-10-01 09:34:33,296 - INFO - 🔥 KATALIZATOR (anthropic/claude-sonnet-4-5-20250929): Generating Thesis (Cycle 3)\n",
      "2025-10-01 09:34:50,028 - INFO - HTTP Request: POST https://api.anthropic.com/v1/messages \"HTTP/1.1 200 OK\"\n",
      "2025-10-01 09:34:50,030 - INFO - ✅ KATALIZATOR: Thesis generated (2398 chars)\n",
      "2025-10-01 09:34:50,032 - INFO - ⚔️ SCEPTYK (google/gemini-2.5-pro via Vertex AI): Generating Antithesis (Cycle 3)\n",
      "2025-10-01 09:34:50,033 - WARNING - Unexpected argument 'timeout' provided to ChatVertexAI.\n",
      "2025-10-01 09:35:17,713 - INFO - ✅ SCEPTYK: Antithesis generated (1517 chars)\n",
      "2025-10-01 09:35:17,715 - INFO - ⚖️ GUBERNATOR (anthropic/claude-sonnet-4-5-20250929): Evaluating Consensus (Cycle 3)\n",
      "2025-10-01 09:35:34,059 - INFO - HTTP Request: POST https://api.anthropic.com/v1/messages \"HTTP/1.1 200 OK\"\n",
      "2025-10-01 09:35:34,066 - INFO - ✅ GUBERNATOR: Consensus Score = 0.72\n",
      "2025-10-01 09:35:34,067 - INFO - ✅ Consensus threshold met (0.72 >= 0.7) after 3 cycles. Moving to synthesis.\n",
      "2025-10-01 09:35:34,068 - INFO - 🔮 SYNTEZATOR (anthropic/claude-opus-4-1-20250805): Generating Final Plan (Cycle 3)\n",
      "2025-10-01 09:36:20,551 - INFO - HTTP Request: POST https://api.anthropic.com/v1/messages \"HTTP/1.1 200 OK\"\n",
      "2025-10-01 09:36:20,554 - INFO - ✅ SYNTEZATOR: Plan generated (5 agents, 14 steps)\n"
     ]
    },
    {
     "name": "stdout",
     "output_type": "stream",
     "text": [
      "\n",
      "================================================================================\n",
      "✅ Debate complete!\n"
     ]
    }
   ],
   "source": [
    "initial_state = {\n",
    "    \"mission\": MISSION,\n",
    "    \"contributions\": [],\n",
    "    \"cycle_count\": 1,\n",
    "    \"current_consensus_score\": 0.0,\n",
    "    \"final_plan\": None,\n",
    "}\n",
    "\n",
    "print(\"🚀 Starting HEGEMON debate...\\n\")\n",
    "print(\"=\" * 80)\n",
    "\n",
    "final_state = graph.invoke(initial_state)\n",
    "\n",
    "print(\"\\n\" + \"=\" * 80)\n",
    "print(\"✅ Debate complete!\")"
   ]
  },
  {
   "cell_type": "code",
   "execution_count": null,
   "id": "bbb527d1-865b-4159-b79c-5ba6ce2e4299",
   "metadata": {},
   "outputs": [],
   "source": [
    "print(\"\\n\" + \"=\" * 80)\n",
    "print(\"📊 DEBATE SUMMARY\")\n",
    "print(\"=\" * 80 + \"\\n\")\n",
    "\n",
    "print(f\"Total cycles: {final_state['cycle_count']}\")\n",
    "print(f\"Final consensus score: {final_state['current_consensus_score']:.2f}\")\n",
    "print(f\"Total contributions: {len(final_state['contributions'])}\")\n",
    "\n",
    "print(\"\\n\" + \"=\" * 80)\n",
    "print(\"📝 DEBATE HISTORY\")\n",
    "print(\"=\" * 80 + \"\\n\")\n",
    "\n",
    "for contrib in final_state['contributions']:\n",
    "    print(f\"\\n{'='*80}\")\n",
    "    print(f\"Agent: {contrib.agent_id} | Type: {contrib.type} | Cycle: {contrib.cycle}\")\n",
    "    print(f\"{'='*80}\")\n",
    "    print(f\"\\n{contrib.content[:500]}...\")\n",
    "    print(f\"\\nRationale: {contrib.rationale}\")"
   ]
  },
  {
   "cell_type": "code",
   "execution_count": null,
   "id": "053b01a6-2e6b-4955-b24d-82fe1503e1ee",
   "metadata": {
    "tags": []
   },
   "outputs": [],
   "source": [
    "final_plan = final_state['final_plan']\n",
    "\n",
    "print(\"\\n\" + \"=\" * 80)\n",
    "print(\"🎯 FINAL STRATEGIC PLAN\")\n",
    "print(\"=\" * 80 + \"\\n\")\n",
    "\n",
    "print(\"📋 MISSION OVERVIEW:\")\n",
    "print(\"-\" * 80)\n",
    "print(final_plan.mission_overview)\n",
    "\n",
    "print(\"\\n\\n👥 REQUIRED AGENTS:\")\n",
    "print(\"-\" * 80)\n",
    "for agent in final_plan.required_agents:\n",
    "    print(f\"\\n{agent.role}\")\n",
    "    print(f\"  Description: {agent.description}\")\n",
    "    print(f\"  Skills: {', '.join(agent.required_skills)}\")\n",
    "\n",
    "print(\"\\n\\n📊 WORKFLOW ({} steps):\".format(len(final_plan.workflow)))\n",
    "print(\"-\" * 80)\n",
    "for step in final_plan.workflow:\n",
    "    print(f\"\\nStep {step.step_id}: {step.assigned_agent_role}\")\n",
    "    print(f\"  Task: {step.description}\")\n",
    "    if step.dependencies:\n",
    "        print(f\"  Dependencies: {step.dependencies}\")\n",
    "\n",
    "print(\"\\n\\n⚠️ RISK ANALYSIS:\")\n",
    "print(\"-\" * 80)\n",
    "print(final_plan.risk_analysis)"
   ]
  },
  {
   "cell_type": "code",
   "execution_count": 11,
   "id": "99eb3060-c723-4ffe-9907-ed7a3677e818",
   "metadata": {
    "tags": []
   },
   "outputs": [
    {
     "name": "stdout",
     "output_type": "stream",
     "text": [
      "✅ Results exported to: output/hegemon_output_20251001_093620.json\n",
      "📊 File size: 35.0 KB\n"
     ]
    }
   ],
   "source": [
    "# ============================================================================\n",
    "# CELL 13: Export to JSON\n",
    "# ============================================================================\n",
    "import json\n",
    "from datetime import datetime\n",
    "\n",
    "output = {\n",
    "    \"timestamp\": datetime.now().isoformat(),\n",
    "    \"mission\": final_state['mission'],\n",
    "    \"debate_summary\": {\n",
    "        \"total_cycles\": final_state['cycle_count'],\n",
    "        \"final_consensus_score\": final_state['current_consensus_score'],\n",
    "        \"total_contributions\": len(final_state['contributions']),\n",
    "    },\n",
    "    \"debate_history\": [\n",
    "        {\n",
    "            \"agent_id\": c.agent_id,\n",
    "            \"type\": c.type,\n",
    "            \"cycle\": c.cycle,\n",
    "            \"content\": c.content,\n",
    "            \"rationale\": c.rationale,\n",
    "        }\n",
    "        for c in final_state['contributions']\n",
    "    ],\n",
    "    \"final_plan\": {\n",
    "        \"mission_overview\": final_plan.mission_overview,\n",
    "        \"required_agents\": [\n",
    "            {\n",
    "                \"role\": a.role,\n",
    "                \"description\": a.description,\n",
    "                \"required_skills\": a.required_skills,\n",
    "            }\n",
    "            for a in final_plan.required_agents\n",
    "        ],\n",
    "        \"workflow\": [\n",
    "            {\n",
    "                \"step_id\": s.step_id,\n",
    "                \"description\": s.description,\n",
    "                \"assigned_agent_role\": s.assigned_agent_role,\n",
    "                \"dependencies\": s.dependencies,\n",
    "            }\n",
    "            for s in final_plan.workflow\n",
    "        ],\n",
    "        \"risk_analysis\": final_plan.risk_analysis,\n",
    "    }\n",
    "}\n",
    "\n",
    "output_path = Path(\"output\")\n",
    "output_path.mkdir(exist_ok=True)\n",
    "\n",
    "filename = output_path / f\"hegemon_output_{datetime.now().strftime('%Y%m%d_%H%M%S')}.json\"\n",
    "\n",
    "with open(filename, \"w\", encoding=\"utf-8\") as f:\n",
    "    json.dump(output, f, indent=2, ensure_ascii=False)\n",
    "\n",
    "print(f\"✅ Results exported to: {filename}\")\n",
    "print(f\"📊 File size: {filename.stat().st_size / 1024:.1f} KB\")"
   ]
  },
  {
   "cell_type": "code",
   "execution_count": 12,
   "id": "d0abedf3-e007-4c19-8fe6-01023689f923",
   "metadata": {
    "tags": []
   },
   "outputs": [
    {
     "name": "stderr",
     "output_type": "stream",
     "text": [
      "/var/tmp/ipykernel_7489/1481772580.py:32: UserWarning: This figure includes Axes that are not compatible with tight_layout, so results might be incorrect.\n",
      "  plt.tight_layout()\n"
     ]
    },
    {
     "data": {
      "image/png": "[encoded data removed]",
      "text/plain": [
       "<Figure size 1400x1000 with 1 Axes>"
      ]
     },
     "metadata": {},
     "output_type": "display_data"
    },
    {
     "name": "stdout",
     "output_type": "stream",
     "text": [
      "✅ Workflow graph saved!\n"
     ]
    }
   ],
   "source": [
    "# ============================================================================\n",
    "# CELL 14: Visualize Workflow as Graph (Optional)\n",
    "# ============================================================================\n",
    "try:\n",
    "    import matplotlib.pyplot as plt\n",
    "    import networkx as nx\n",
    "    \n",
    "    G = nx.DiGraph()\n",
    "    \n",
    "    for step in final_plan.workflow:\n",
    "        G.add_node(step.step_id, label=f\"Step {step.step_id}\\n{step.assigned_agent_role}\")\n",
    "        for dep in step.dependencies:\n",
    "            G.add_edge(dep, step.step_id)\n",
    "    \n",
    "    plt.figure(figsize=(14, 10))\n",
    "    pos = nx.spring_layout(G, k=2, iterations=50)\n",
    "    \n",
    "    nx.draw(G, pos, \n",
    "            node_color='lightblue', \n",
    "            node_size=3000,\n",
    "            with_labels=True,\n",
    "            labels={n: f\"Step {n}\" for n in G.nodes()},\n",
    "            font_size=10,\n",
    "            font_weight='bold',\n",
    "            arrows=True,\n",
    "            arrowsize=20,\n",
    "            edge_color='gray',\n",
    "            width=2)\n",
    "    \n",
    "    plt.title(\"Workflow Dependency Graph\", fontsize=16, fontweight='bold')\n",
    "    plt.axis('off')\n",
    "    plt.tight_layout()\n",
    "    plt.savefig(output_path / \"workflow_graph.png\", dpi=150, bbox_inches='tight')\n",
    "    plt.show()\n",
    "    \n",
    "    print(\"✅ Workflow graph saved!\")\n",
    "    \n",
    "except ImportError:\n",
    "    print(\"⚠️ matplotlib/networkx not installed. Skipping visualization.\")\n",
    "    print(\"Install with: pip install matplotlib networkx\")"
   ]
  },
  {
   "cell_type": "code",
   "execution_count": 13,
   "id": "a8b84016-b2fe-4de3-80bf-c40049149b89",
   "metadata": {
    "tags": []
   },
   "outputs": [
    {
     "name": "stdout",
     "output_type": "stream",
     "text": [
      "\n",
      "================================================================================\n",
      "📈 QUICK STATS\n",
      "================================================================================\n",
      "\n",
      "Mission length: 4499 characters\n",
      "Debate cycles: 3\n",
      "Final consensus: 72.00%\n",
      "Total contributions: 10\n",
      "  - Theses: 3\n",
      "  - Antitheses: 3\n",
      "  - Evaluations: 3\n",
      "  - Final Plans: 1\n",
      "\n",
      "Final Plan:\n",
      "  - Required agents: 5\n",
      "  - Workflow steps: 14\n",
      "  - Mission overview length: 550 chars\n",
      "  - Risk analysis length: 636 chars\n",
      "\n",
      "Total debate output: 17,011 characters (16.6 KB)\n"
     ]
    }
   ],
   "source": [
    "# ============================================================================\n",
    "# CELL 15: Quick Stats\n",
    "# ============================================================================\n",
    "print(\"\\n\" + \"=\" * 80)\n",
    "print(\"📈 QUICK STATS\")\n",
    "print(\"=\" * 80 + \"\\n\")\n",
    "\n",
    "print(f\"Mission length: {len(MISSION)} characters\")\n",
    "print(f\"Debate cycles: {final_state['cycle_count']}\")\n",
    "print(f\"Final consensus: {final_state['current_consensus_score']:.2%}\")\n",
    "print(f\"Total contributions: {len(final_state['contributions'])}\")\n",
    "print(f\"  - Theses: {sum(1 for c in final_state['contributions'] if c.type == 'Thesis')}\")\n",
    "print(f\"  - Antitheses: {sum(1 for c in final_state['contributions'] if c.type == 'Antithesis')}\")\n",
    "print(f\"  - Evaluations: {sum(1 for c in final_state['contributions'] if c.type == 'Evaluation')}\")\n",
    "print(f\"  - Final Plans: {sum(1 for c in final_state['contributions'] if c.type == 'FinalPlan')}\")\n",
    "\n",
    "print(f\"\\nFinal Plan:\")\n",
    "print(f\"  - Required agents: {len(final_plan.required_agents)}\")\n",
    "print(f\"  - Workflow steps: {len(final_plan.workflow)}\")\n",
    "print(f\"  - Mission overview length: {len(final_plan.mission_overview)} chars\")\n",
    "print(f\"  - Risk analysis length: {len(final_plan.risk_analysis)} chars\")\n",
    "\n",
    "total_chars = sum(len(c.content) for c in final_state['contributions'])\n",
    "print(f\"\\nTotal debate output: {total_chars:,} characters ({total_chars/1024:.1f} KB)\")"
   ]
  },
  {
   "cell_type": "code",
   "execution_count": null,
   "id": "e887b2b0-d7c8-437a-97f5-e2950fd06d52",
   "metadata": {},
   "outputs": [],
   "source": []
  },
  {
   "cell_type": "code",
   "execution_count": 7,
   "id": "25d55f6c-ab78-478c-8bc4-77ad12b556d9",
   "metadata": {
    "tags": []
   },
   "outputs": [
    {
     "name": "stdout",
     "output_type": "stream",
     "text": [
      "✅ Environment configured for Vertex AI\n",
      "   Explainability enabled: true\n",
      "   Classifier model: gemini-2.5-flash\n"
     ]
    }
   ],
   "source": [
    "# Komórka 1: Setup\n",
    "import os\n",
    "import sys\n",
    "import json\n",
    "import logging\n",
    "from pathlib import Path\n",
    "\n",
    "# ENABLE EXPLAINABILITY (przez os.environ)\n",
    "os.environ[\"HEGEMON_EXPLAINABILITY_ENABLED\"] = \"true\"\n",
    "os.environ[\"HEGEMON_EXPLAINABILITY_SEMANTIC_FINGERPRINT\"] = \"true\"\n",
    "os.environ[\"HEGEMON_EXPLAINABILITY_CLASSIFIER_MODEL\"] = \"gemini-2.5-flash\"  # Vertex AI model\n",
    "\n",
    "# Setup logging dla Jupyter\n",
    "logging.basicConfig(\n",
    "    level=logging.INFO,\n",
    "    format=\"%(asctime)s - %(name)s - %(levelname)s - %(message)s\",\n",
    "    force=True\n",
    ")\n",
    "logger = logging.getLogger(__name__)\n",
    "\n",
    "print(\"✅ Environment configured for Vertex AI\")\n",
    "print(f\"   Explainability enabled: {os.environ.get('HEGEMON_EXPLAINABILITY_ENABLED')}\")\n",
    "print(f\"   Classifier model: {os.environ.get('HEGEMON_EXPLAINABILITY_CLASSIFIER_MODEL')}\")"
   ]
  },
  {
   "cell_type": "code",
   "execution_count": 12,
   "id": "f7b6c21c-454f-474f-94b9-9dc5d9e9f7db",
   "metadata": {
    "tags": []
   },
   "outputs": [
    {
     "name": "stderr",
     "output_type": "stream",
     "text": [
      "2025-10-02 12:17:12,380 - hegemon.config.settings - WARNING - Explainability enabled but no Google API key found. Classifier will fail.\n",
      "2025-10-02 12:17:12,381 - hegemon.config.settings - INFO - ✅ Sceptyk will use Vertex AI (Application Default Credentials)\n",
      "2025-10-02 12:17:12,382 - hegemon.config.settings - INFO - ✅ All required authentication validated\n",
      "2025-10-02 12:17:12,383 - hegemon.config.settings - INFO - ✅ HEGEMON Settings initialized (GCP Project: dark-data-discovery)\n"
     ]
    },
    {
     "name": "stdout",
     "output_type": "stream",
     "text": [
      "Explainability Layers:\n",
      "  Layer 6 (Semantic): True\n",
      "  Layer 2 (Epistemic): True\n",
      "================================================================================\n",
      "✅ STEP 2: Settings loaded and verified\n",
      "================================================================================\n",
      "GCP Project ID: dark-data-discovery\n",
      "GCP Location: us-central1\n",
      "\n",
      "🔍 EXPLAINABILITY SETTINGS:\n",
      "   enabled: True\n",
      "   semantic_fingerprint: True\n",
      "   classifier_model: gemini-2.0-flash\n",
      "   cache_size: 1000\n",
      "================================================================================\n",
      "\n",
      "✅ SUCCESS: Explainability is ENABLED!\n",
      "   Proceed to next cells.\n",
      "\n"
     ]
    }
   ],
   "source": [
    "# Komórka 2: Import Hegemon modules\n",
    "from hegemon.graph import create_hegemon_graph\n",
    "from hegemon.explainability.visualizer import HeatmapGenerator\n",
    "from hegemon.config.settings import get_settings\n",
    "\n",
    "# Verify settings\n",
    "settings = get_settings()\n",
    "print(\"Explainability Layers:\")\n",
    "print(f\"  Layer 6 (Semantic): {settings.explainability_semantic_fingerprint}\")\n",
    "print(f\"  Layer 2 (Epistemic): {settings.explainability_epistemic_uncertainty}\")\n",
    "\n",
    "\n",
    "print(\"=\" * 80)\n",
    "print(\"✅ STEP 2: Settings loaded and verified\")\n",
    "print(\"=\" * 80)\n",
    "print(f\"GCP Project ID: {settings.gcp_project_id}\")\n",
    "print(f\"GCP Location: {settings.gcp_location}\")\n",
    "print()\n",
    "print(\"🔍 EXPLAINABILITY SETTINGS:\")\n",
    "print(f\"   enabled: {settings.explainability_enabled}\")\n",
    "print(f\"   semantic_fingerprint: {settings.explainability_semantic_fingerprint}\")\n",
    "print(f\"   classifier_model: {settings.explainability_classifier_model}\")\n",
    "print(f\"   cache_size: {settings.explainability_cache_size}\")\n",
    "print(\"=\" * 80)\n",
    "\n",
    "# CRITICAL CHECK\n",
    "if not settings.explainability_enabled:\n",
    "    print(\"\\n❌ ERROR: Explainability is DISABLED!\")\n",
    "    print(\"   This means environment variable was set AFTER settings were cached.\")\n",
    "    print(\"   SOLUTION: Restart kernel and run cells in correct order.\")\n",
    "else:\n",
    "    print(\"\\n✅ SUCCESS: Explainability is ENABLED!\")\n",
    "    print(\"   Proceed to next cells.\")\n",
    "\n",
    "print()"
   ]
  },
  {
   "cell_type": "code",
   "execution_count": 13,
   "id": "41d6d016-2a0e-4815-9d68-b201dd6d9d97",
   "metadata": {
    "tags": []
   },
   "outputs": [
    {
     "name": "stdout",
     "output_type": "stream",
     "text": [
      "✅ Mission defined\n",
      "================================================================================\n",
      "\n",
      "Design a comprehensive AI-powered customer service automation strategy \n",
      "for a mid-sized e-commerce company (500 employees, $50M annual revenue).\n",
      "\n",
      "Requirements:\n",
      "- Reduce customer service costs by 30%\n",
      "- Maintain or improve customer satisfaction scores\n",
      "- Implementation timeline: 6 months\n",
      "- Budget: $500,000\n",
      "- Must integrate with existing Salesforce CRM\n",
      "\n",
      "Deliverable: Detailed implementation plan with agent roles, workflow, \n",
      "and risk analysis.\n",
      "\n",
      "================================================================================\n"
     ]
    }
   ],
   "source": [
    "# Komórka 3: Define mission\n",
    "mission = \"\"\"\n",
    "Design a comprehensive AI-powered customer service automation strategy \n",
    "for a mid-sized e-commerce company (500 employees, $50M annual revenue).\n",
    "\n",
    "Requirements:\n",
    "- Reduce customer service costs by 30%\n",
    "- Maintain or improve customer satisfaction scores\n",
    "- Implementation timeline: 6 months\n",
    "- Budget: $500,000\n",
    "- Must integrate with existing Salesforce CRM\n",
    "\n",
    "Deliverable: Detailed implementation plan with agent roles, workflow, \n",
    "and risk analysis.\n",
    "\"\"\"\n",
    "\n",
    "initial_state = {\n",
    "    \"mission\": mission,\n",
    "    \"contributions\": [],\n",
    "    \"cycle_count\": 1,\n",
    "    \"current_consensus_score\": 0.0,\n",
    "    \"final_plan\": None,\n",
    "}\n",
    "\n",
    "print(\"✅ Mission defined\")\n",
    "print(\"=\" * 80)\n",
    "print(mission)\n",
    "print(\"=\" * 80)"
   ]
  },
  {
   "cell_type": "code",
   "execution_count": 14,
   "id": "f02a1e1f-d2f4-4a9e-bfb1-289ec0aee1f9",
   "metadata": {
    "tags": []
   },
   "outputs": [
    {
     "name": "stderr",
     "output_type": "stream",
     "text": [
      "2025-10-02 12:17:21,344 - hegemon.graph - INFO - 🏗️ Building HEGEMON graph...\n",
      "2025-10-02 12:17:21,364 - hegemon.graph - INFO - ✅ HEGEMON graph compiled successfully!\n",
      "2025-10-02 12:17:21,364 - hegemon.graph - INFO -    Nodes: ['__start__', 'katalizator', 'sceptyk', 'gubernator', 'syntezator', 'increment_cycle']\n"
     ]
    },
    {
     "name": "stdout",
     "output_type": "stream",
     "text": [
      "✅ Hegemon graph created\n",
      "   Nodes: ['__start__', 'katalizator', 'sceptyk', 'gubernator', 'syntezator', 'increment_cycle']\n"
     ]
    }
   ],
   "source": [
    "# Komórka 4: Create Hegemon graph\n",
    "graph = create_hegemon_graph()\n",
    "\n",
    "print(\"✅ Hegemon graph created\")\n",
    "print(f\"   Nodes: {list(graph.nodes.keys())}\")"
   ]
  },
  {
   "cell_type": "code",
   "execution_count": null,
   "id": "4340d29b-0f8c-4e8d-b98a-8ca5d9eae7b8",
   "metadata": {
    "tags": []
   },
   "outputs": [],
   "source": [
    "# Komórka 5: Run debate\n",
    "print(\"🎭 Starting dialectical debate...\")\n",
    "print(\"⏳ This will take 2-5 minutes...\\n\")\n",
    "\n",
    "final_state = graph.invoke(initial_state)\n",
    "\n",
    "\n",
    "# Auto-export Layer 2 data\n",
    "from hegemon.explainability.visualizer import (\n",
    "    export_all_epistemic_profiles,\n",
    "    create_epistemic_comparison_report,\n",
    ")\n",
    "\n",
    "print(\"\\n\" + \"=\" * 80)\n",
    "print(\"EXPORTING LAYER 2 DATA...\")\n",
    "print(\"=\" * 80)\n",
    "\n",
    "exported = export_all_epistemic_profiles(\n",
    "    final_state[\"contributions\"],\n",
    "    output_dir=\"epistemic_exports\",\n",
    "    format=\"both\"\n",
    ")\n",
    "\n",
    "report = create_epistemic_comparison_report(\n",
    "    final_state[\"contributions\"],\n",
    "    output_path=\"epistemic_comparison.md\"\n",
    ")\n",
    "\n",
    "print(f\"✅ Exported {len(exported['json'])} profiles\")\n",
    "print(f\"✅ Report: {report}\")\n",
    "\n",
    "\n",
    "\n",
    "print(\"\\n\" + \"=\" * 80)\n",
    "print(f\"✅ Debate completed in {final_state['cycle_count']} cycles\")\n",
    "print(f\"   Final consensus: {final_state.get('current_consensus_score', 0.0):.2f}\")\n",
    "print(f\"   Total contributions: {len(final_state['contributions'])}\")\n",
    "print(\"=\" * 80)"
   ]
  },
  {
   "cell_type": "code",
   "execution_count": null,
   "id": "af5c03c4-ca8c-4537-823e-82abae9aa4ee",
   "metadata": {
    "tags": []
   },
   "outputs": [],
   "source": [
    "# Komórka 6: Inspect contributions\n",
    "print(\"📋 DEBATE CONTRIBUTIONS:\\n\")\n",
    "\n",
    "for i, contrib in enumerate(final_state[\"contributions\"], 1):\n",
    "    print(f\"{i}. {contrib.agent_id} (Cycle {contrib.cycle}) - {contrib.type}\")\n",
    "    print(f\"   Content length: {len(contrib.content)} chars\")\n",
    "    \n",
    "    # Check if has explainability\n",
    "    if contrib.explainability and contrib.explainability.semantic_fingerprint:\n",
    "        vector = contrib.explainability.semantic_fingerprint\n",
    "        print(f\"   ✅ Explainability: {vector.processing_time_ms}ms, Cache: {vector.cache_hit}\")\n",
    "        \n",
    "        # Show top 3 concepts\n",
    "        top_3 = vector.top_k(3)\n",
    "        print(f\"   Top concepts: {', '.join([f'{cid}({score:.2f})' for cid, score in top_3])}\")\n",
    "    else:\n",
    "        print(f\"   ❌ No explainability data\")\n",
    "    \n",
    "    print()"
   ]
  },
  {
   "cell_type": "code",
   "execution_count": null,
   "id": "a62c296c-873b-44d4-b0f0-48b7de14864a",
   "metadata": {
    "tags": []
   },
   "outputs": [],
   "source": [
    "# Komórka 7: Visualize semantic fingerprints\n",
    "visualizer = HeatmapGenerator()\n",
    "\n",
    "print(\"📊 SEMANTIC FINGERPRINTS\\n\")\n",
    "\n",
    "for contrib in final_state[\"contributions\"]:\n",
    "    if contrib.explainability and contrib.explainability.semantic_fingerprint:\n",
    "        vector = contrib.explainability.semantic_fingerprint\n",
    "        \n",
    "        print(\"=\" * 80)\n",
    "        print(f\"{contrib.agent_id} - Cycle {contrib.cycle} ({contrib.type})\")\n",
    "        print(\"=\" * 80)\n",
    "        \n",
    "        heatmap = visualizer.generate_text_heatmap(vector, top_k=10)\n",
    "        print(heatmap)\n",
    "        print(\"\\n\")"
   ]
  },
  {
   "cell_type": "code",
   "execution_count": null,
   "id": "8944d4a7-fb5c-47d9-b596-8a5888deeeba",
   "metadata": {
    "tags": []
   },
   "outputs": [],
   "source": [
    "# Komórka 8: Compare Katalizator vs Sceptyk\n",
    "kataliz_contribs = [c for c in final_state[\"contributions\"] if c.agent_id == \"Katalizator\"]\n",
    "sceptyk_contribs = [c for c in final_state[\"contributions\"] if c.agent_id == \"Sceptyk\"]\n",
    "\n",
    "if kataliz_contribs and sceptyk_contribs:\n",
    "    kataliz_last = kataliz_contribs[-1]\n",
    "    sceptyk_last = sceptyk_contribs[-1]\n",
    "    \n",
    "    if (kataliz_last.explainability and sceptyk_last.explainability and\n",
    "        kataliz_last.explainability.semantic_fingerprint and \n",
    "        sceptyk_last.explainability.semantic_fingerprint):\n",
    "        \n",
    "        print(\"🔄 COMPARISON: Katalizator vs Sceptyk\\n\")\n",
    "        \n",
    "        comparison = visualizer.generate_comparison_text(\n",
    "            kataliz_last.explainability.semantic_fingerprint,\n",
    "            sceptyk_last.explainability.semantic_fingerprint,\n",
    "            label1=\"Katalizator\",\n",
    "            label2=\"Sceptyk\",\n",
    "            top_k=10\n",
    "        )\n",
    "        print(comparison)\n",
    "        \n",
    "        # Similarity score\n",
    "        similarity = kataliz_last.explainability.semantic_fingerprint.compare(\n",
    "            sceptyk_last.explainability.semantic_fingerprint\n",
    "        )\n",
    "        print(f\"\\n📊 Cognitive Similarity: {similarity:.3f}\")\n",
    "        print(f\"   Interpretation: {'Similar thinking' if similarity > 0.7 else 'Divergent thinking' if similarity < 0.3 else 'Moderately different'}\")"
   ]
  },
  {
   "cell_type": "code",
   "execution_count": null,
   "id": "17e602c8-1058-4c49-b487-2f4f6e9e97a7",
   "metadata": {
    "tags": []
   },
   "outputs": [],
   "source": [
    "# Komórka 9: Save results\n",
    "output_dir = Path(\"output\")\n",
    "output_dir.mkdir(exist_ok=True)\n",
    "\n",
    "# Save JSON\n",
    "output_file = output_dir / \"hegemon_jupyter_output.json\"\n",
    "\n",
    "output_data = {\n",
    "    \"mission\": final_state[\"mission\"],\n",
    "    \"total_cycles\": final_state[\"cycle_count\"],\n",
    "    \"final_consensus_score\": final_state.get(\"current_consensus_score\", 0.0),\n",
    "    \"contributions\": [c.model_dump() for c in final_state[\"contributions\"]],\n",
    "    \"final_plan\": final_state[\"final_plan\"].model_dump() if final_state[\"final_plan\"] else None,\n",
    "}\n",
    "\n",
    "with open(output_file, \"w\", encoding=\"utf-8\") as f:\n",
    "    json.dump(output_data, f, indent=2, default=str)\n",
    "\n",
    "print(f\"✅ Output saved to: {output_file}\")\n",
    "\n",
    "# Save heatmaps\n",
    "for contrib in final_state[\"contributions\"]:\n",
    "    if contrib.explainability and contrib.explainability.semantic_fingerprint:\n",
    "        vector = contrib.explainability.semantic_fingerprint\n",
    "        heatmap = visualizer.generate_text_heatmap(vector, top_k=20)\n",
    "        \n",
    "        heatmap_file = output_dir / f\"heatmap_{contrib.agent_id}_cycle{contrib.cycle}.txt\"\n",
    "        with open(heatmap_file, \"w\", encoding=\"utf-8\") as f:\n",
    "            f.write(heatmap)\n",
    "        \n",
    "        print(f\"✅ Heatmap saved: {heatmap_file.name}\")\n",
    "\n",
    "print(\"\\n🎉 All results saved!\")"
   ]
  },
  {
   "cell_type": "code",
   "execution_count": null,
   "id": "09b13d3b-cb05-42a0-8bea-b503118df69e",
   "metadata": {},
   "outputs": [],
   "source": [
    "# ═══════════════════════════════════════════════════════════════════════════\n",
    "# KOMÓRKA: Export Layer 2 (Epistemic Uncertainty) Data\n",
    "# ═══════════════════════════════════════════════════════════════════════════\n",
    "\n",
    "from hegemon.explainability.visualizer import (\n",
    "    export_all_epistemic_profiles,\n",
    "    create_epistemic_comparison_report,\n",
    ")\n",
    "\n",
    "# 1. Export individual profiles (JSON + Text)\n",
    "exported_files = export_all_epistemic_profiles(\n",
    "    contributions=final_state[\"contributions\"],\n",
    "    output_dir=\"epistemic_exports\",\n",
    "    format=\"both\",  # \"json\", \"text\", or \"both\"\n",
    ")\n",
    "\n",
    "print(\"=\" * 70)\n",
    "print(\"EPISTEMIC PROFILES EXPORTED\")\n",
    "print(\"=\" * 70)\n",
    "print(f\"JSON files: {len(exported_files['json'])}\")\n",
    "print(f\"Text files: {len(exported_files['text'])}\")\n",
    "print()\n",
    "\n",
    "# Show example\n",
    "if exported_files['text']:\n",
    "    print(f\"Example text file: {exported_files['text'][0]}\")\n",
    "    with open(exported_files['text'][0], 'r') as f:\n",
    "        print(f.read()[:500])\n",
    "        print(\"...\")\n",
    "\n",
    "print()\n",
    "\n",
    "# 2. Create comparison report (Markdown)\n",
    "report_path = create_epistemic_comparison_report(\n",
    "    contributions=final_state[\"contributions\"],\n",
    "    output_path=\"epistemic_comparison.md\",\n",
    ")\n",
    "\n",
    "print(f\"Comparison report: {report_path}\")\n",
    "print()\n",
    "\n",
    "# 3. Show summary\n",
    "print(\"=\" * 70)\n",
    "print(\"LAYER 2 SUMMARY\")\n",
    "print(\"=\" * 70)\n",
    "\n",
    "for contrib in final_state[\"contributions\"]:\n",
    "    if contrib.explainability and contrib.explainability.epistemic_profile:\n",
    "        profile = contrib.explainability.epistemic_profile\n",
    "        stats = profile.get_summary_stats()\n",
    "        \n",
    "        print(f\"{contrib.agent_id} (Cycle {contrib.cycle}):\")\n",
    "        print(f\"  Claims: {stats['total_claims']}\")\n",
    "        print(f\"  Avg Confidence: {stats['aggregate_confidence']:.2f}\")\n",
    "        print(f\"  High/Med/Low: {stats['high_confidence_count']}/\"\n",
    "              f\"{stats['medium_confidence_count']}/{stats['low_confidence_count']}\")\n",
    "        \n",
    "        # Show lowest confidence claim\n",
    "        low_claims = profile.get_low_confidence_claims(threshold=0.5)\n",
    "        if low_claims:\n",
    "            lowest = min(low_claims, key=lambda c: c.confidence)\n",
    "            print(f\"  ⚠️ Lowest: [{lowest.confidence:.2f}] {lowest.claim_text[:80]}...\")\n",
    "        \n",
    "        print()"
   ]
  },
  {
   "cell_type": "code",
   "execution_count": 20,
   "id": "62b24a3f-cbb3-4a86-a825-4064957b51cc",
   "metadata": {
    "tags": []
   },
   "outputs": [
    {
     "name": "stdout",
     "output_type": "stream",
     "text": [
      "================================================================================\n",
      "📋 FINAL STRATEGIC PLAN\n",
      "================================================================================\n",
      "\n",
      "## Mission Overview\n",
      "Deploy intelligent AI augmentation system for customer service transformation over 8 months, achieving 30% cost reduction through productivity multiplication rather than headcount cuts. Phase 1 (months 1-3): Data preparation and pilot with 15% volume. Phase 2 (months 4-6): Scale to 40% autonomous resolution with AI-assisted human agents. Phase 3 (months 7-8): Optimization and full deployment. Balances Catalyst's automation ambition with Skeptic's risk concerns through controlled rollout. Expected: $1.4M annual savings, 85% CSAT, 5-minute average handle time.\n",
      "\n",
      "## Required Agents (5)\n",
      "\n",
      "1. AI Integration Architect\n",
      "   Designs and implements Salesforce-AI integration architecture, builds custom Lightning components, manages API connections and data flow between systems\n",
      "   Skills: Salesforce Lightning Development, REST API Integration, Python/Node.js...\n",
      "\n",
      "2. ML Operations Engineer\n",
      "   Manages AI model deployment, monitoring, and continuous learning pipelines, ensures 95% uptime and performance optimization\n",
      "   Skills: MLOps platforms (MLflow/Kubeflow), Model versioning, Performance monitoring...\n",
      "\n",
      "3. Conversation Designer\n",
      "   Creates conversational flows, intent taxonomies, and response templates for AI system, optimizes natural language understanding accuracy\n",
      "   Skills: NLU/NLP frameworks, Conversation flow design, Intent classification...\n",
      "\n",
      "4. Data Quality Analyst\n",
      "   Cleans and prepares historical ticket data, creates training datasets, validates AI accuracy and identifies edge cases for improvement\n",
      "   Skills: SQL/Python data analysis, Data labeling tools, Statistical analysis...\n",
      "\n",
      "5. Change Management Lead\n",
      "   Manages workforce transformation, designs training programs, monitors adoption metrics, and ensures smooth transition for 80 customer service agents\n",
      "   Skills: Organizational change management, Training program design, Stakeholder communication...\n",
      "\n",
      "## Workflow (12 steps)\n",
      "1. Conduct comprehensive audit of 10,000 historical tickets to identify top 5 inquiry categories, extract intent patterns, and create baseline metrics for handle time and resolution rates\n",
      "2. Design Salesforce integration architecture with custom Lightning components, establish secure API connections, and create data synchronization protocols with 99.9% uptime requirement\n",
      "3. Clean and label 50,000 historical tickets for training data, create validation datasets, and establish quality metrics for 90% labeling accuracy (depends on: [1])\n",
      "4. Build conversational flows for order status, returns, and product info queries (top 3 categories), design intent classification taxonomy with 200+ intents (depends on: [1, 3])\n",
      "5. Deploy AI model in controlled pilot environment handling 15% of ticket volume, establish monitoring dashboards and performance baselines (depends on: [2, 3, 4])\n",
      "   ... and 7 more steps\n",
      "\n",
      "## Risk Analysis\n",
      "Three critical risks require active mitigation: (1) AI accuracy below 85% causing misrouted tickets - Mitigation: Extended 3-month data preparation phase with 70,000 labeled tickets, daily accuracy monitoring, human-in-loop validation for low-confidence cases. (2) Salesforce integration complexity exceeding $200K budget - Mitigation: $75K contingency reserve, phased integration starting with read-only APIs, vendor fixed-price contracts. (3) Agent resistance/burnout from workflow changes - Mitigation: Voluntary pilot participation, performance bonuses for early adopters, gradual rollout preserving 60% traditional workflows initially, weekly feedback sessions.\n",
      "\n",
      "================================================================================\n"
     ]
    }
   ],
   "source": [
    "# Komórka 10: Display final plan\n",
    "if final_state[\"final_plan\"]:\n",
    "    plan = final_state[\"final_plan\"]\n",
    "    \n",
    "    print(\"=\" * 80)\n",
    "    print(\"📋 FINAL STRATEGIC PLAN\")\n",
    "    print(\"=\" * 80)\n",
    "    print()\n",
    "    \n",
    "    print(\"## Mission Overview\")\n",
    "    print(plan.mission_overview)\n",
    "    print()\n",
    "    \n",
    "    print(f\"## Required Agents ({len(plan.required_agents)})\")\n",
    "    for i, agent in enumerate(plan.required_agents, 1):\n",
    "        print(f\"\\n{i}. {agent.role}\")\n",
    "        print(f\"   {agent.description}\")\n",
    "        print(f\"   Skills: {', '.join(agent.required_skills[:3])}...\")\n",
    "    print()\n",
    "    \n",
    "    print(f\"## Workflow ({len(plan.workflow)} steps)\")\n",
    "    for step in plan.workflow[:5]:  # Show first 5\n",
    "        deps = f\" (depends on: {step.dependencies})\" if step.dependencies else \"\"\n",
    "        print(f\"{step.step_id}. {step.description}{deps}\")\n",
    "    if len(plan.workflow) > 5:\n",
    "        print(f\"   ... and {len(plan.workflow) - 5} more steps\")\n",
    "    print()\n",
    "    \n",
    "    print(\"## Risk Analysis\")\n",
    "    print(plan.risk_analysis)\n",
    "    print()\n",
    "    print(\"=\" * 80)\n",
    "else:\n",
    "    print(\"❌ No final plan generated\")"
   ]
  },
  {
   "cell_type": "code",
   "execution_count": null,
   "id": "fc5df4d0-4475-46e3-8c50-9835f9a88a8c",
   "metadata": {
    "tags": []
   },
   "outputs": [],
   "source": [
    "# Komórka 1: Interactive config\n",
    "import ipywidgets as widgets\n",
    "from IPython.display import display\n",
    "import os\n",
    "\n",
    "# Create toggles\n",
    "enable_expl = widgets.Checkbox(\n",
    "    value=True,\n",
    "    description='Enable Explainability',\n",
    "    style={'description_width': 'initial'}\n",
    ")\n",
    "\n",
    "enable_fingerprint = widgets.Checkbox(\n",
    "    value=True,\n",
    "    description='Semantic Fingerprint',\n",
    "    style={'description_width': 'initial'}\n",
    ")\n",
    "\n",
    "model_dropdown = widgets.Dropdown(\n",
    "    options=['gemini-2.0-flash-exp', 'gemini-1.5-pro', 'gpt-4o-mini'],\n",
    "    value='gemini-2.0-flash-exp',\n",
    "    description='Classifier Model:',\n",
    "    style={'description_width': 'initial'}\n",
    ")\n",
    "\n",
    "def apply_config(btn):\n",
    "    os.environ[\"HEGEMON_EXPLAINABILITY_ENABLED\"] = str(enable_expl.value).lower()\n",
    "    os.environ[\"HEGEMON_EXPLAINABILITY_SEMANTIC_FINGERPRINT\"] = str(enable_fingerprint.value).lower()\n",
    "    os.environ[\"HEGEMON_EXPLAINABILITY_CLASSIFIER_MODEL\"] = model_dropdown.value\n",
    "    print(\"✅ Configuration applied!\")\n",
    "\n",
    "apply_btn = widgets.Button(description=\"Apply Config\", button_style='success')\n",
    "apply_btn.on_click(apply_config)\n",
    "\n",
    "# Display\n",
    "display(enable_expl, enable_fingerprint, model_dropdown, apply_btn)"
   ]
  },
  {
   "cell_type": "code",
   "execution_count": 6,
   "id": "a3eaa50a-0860-48f1-a677-834eb7b4653a",
   "metadata": {},
   "outputs": [
    {
     "name": "stdout",
     "output_type": "stream",
     "text": [
      "Public methods: ['collect', 'get_stats']\n",
      "Private collection methods: ['_collect_epistemic_profile', '_collect_semantic_fingerprint']\n"
     ]
    }
   ],
   "source": [
    "# W Jupyter - restart kernel i test\n",
    "from hegemon.explainability.collector import ExplainabilityCollector\n",
    "\n",
    "# Sprawdź czy ma wszystkie metody\n",
    "collector_methods = [m for m in dir(ExplainabilityCollector) if not m.startswith('_')]\n",
    "print(\"Public methods:\", collector_methods)\n",
    "# Powinno pokazać: ['collect', 'get_stats']\n",
    "\n",
    "private_methods = [m for m in dir(ExplainabilityCollector) if m.startswith('_collect')]\n",
    "print(\"Private collection methods:\", private_methods)\n",
    "# Powinno pokazać: ['_collect_epistemic_profile', '_collect_semantic_fingerprint']"
   ]
  },
  {
   "cell_type": "code",
   "execution_count": null,
   "id": "3de38866-de07-47b2-989c-07ce92931afd",
   "metadata": {},
   "outputs": [],
   "source": []
  }
 ],
 "metadata": {
  "environment": {
   "kernel": "hegemon_env",
   "name": "workbench-notebooks.m129",
   "type": "gcloud",
   "uri": "us-docker.pkg.dev/deeplearning-platform-release/gcr.io/workbench-notebooks:m129"
  },
  "kernelspec": {
   "display_name": "Python 3.11 (hegemon_dev)",
   "language": "python",
   "name": "hegemon_env"
  },
  "language_info": {
   "codemirror_mode": {
    "name": "ipython",
    "version": 3
   },
   "file_extension": ".py",
   "mimetype": "text/x-python",
   "name": "python",
   "nbconvert_exporter": "python",
   "pygments_lexer": "ipython3",
   "version": "3.11.13"
  }
 },
 "nbformat": 4,
 "nbformat_minor": 5
}
