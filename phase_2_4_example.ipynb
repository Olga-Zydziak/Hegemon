{
 "cells": [
  {
   "cell_type": "markdown",
   "metadata": {},
   "source": [
    "# 🎯 HEGEMON Phase 2.4 - Przykład Human-in-the-Loop\n",
    "\n",
    "Ten notebook pokazuje jak używać naprawionego interfejsu Phase 2.4 do interaktywnego uczestnictwa w debacie agentów.\n",
    "\n",
    "## Co zostało naprawione:\n",
    "- ✅ **Session state persistence** - czyste formularze dla każdego checkpointu\n",
    "- ✅ **Widget responsiveness** - polling mechanism zapobiega zawieszaniu się Jupyter kernela\n",
    "- ✅ **Error handling** - defensywne sprawdzanie danych wejściowych\n",
    "- ✅ **Manual control** - przycisk \"Auto-Approve\" dla szybkiego przejścia dalej"
   ]
  },
  {
   "cell_type": "markdown",
   "metadata": {},
   "source": [
    "## 📦 Krok 1: Instalacja i Import\n",
    "\n",
    "Najpierw upewnij się, że masz wszystkie wymagane pakiety:"
   ]
  },
  {
   "cell_type": "code",
   "execution_count": null,
   "metadata": {},
   "outputs": [],
   "source": [
    "# Odkomentuj jeśli potrzebujesz zainstalować ipywidgets\n",
    "# !pip install ipywidgets\n",
    "\n",
    "# Zainstaluj wymagane pakiety z projektu\n",
    "# !pip install -r requirements.txt"
   ]
  },
  {
   "cell_type": "code",
   "execution_count": null,
   "metadata": {},
   "outputs": [],
   "source": [
    "import sys\n",
    "import logging\n",
    "from pathlib import Path\n",
    "\n",
    "# Setup logging\n",
    "logging.basicConfig(\n",
    "    level=logging.INFO,\n",
    "    format='%(asctime)s - %(levelname)s - %(message)s'\n",
    ")\n",
    "logger = logging.getLogger(__name__)\n",
    "\n",
    "print(\"✅ Basic imports ready\")"
   ]
  },
  {
   "cell_type": "markdown",
   "metadata": {},
   "source": [
    "## 🔧 Krok 2: Import HITL Components\n",
    "\n",
    "Importujemy naprawione komponenty Phase 2.4:"
   ]
  },
  {
   "cell_type": "code",
   "execution_count": null,
   "metadata": {},
   "outputs": [],
   "source": [
    "# Import głównych komponentów HEGEMON\n",
    "from hegemon.graph_hitl_v3 import create_hegemon_graph_hitl_v3\n",
    "from hegemon.config.settings import get_settings\n",
    "\n",
    "# Import modeli HITL\n",
    "from hegemon.hitl import (\n",
    "    CheckpointUI,\n",
    "    InterventionMode,\n",
    "    FeedbackDecision,\n",
    "    create_checkpoint_ui,\n",
    ")\n",
    "\n",
    "print(\"✅ HITL components imported\")\n",
    "print(f\"   HITL version: {__import__('hegemon.hitl').__version__}\")"
   ]
  },
  {
   "cell_type": "markdown",
   "metadata": {},
   "source": [
    "## ⚙️ Krok 3: Konfiguracja\n",
    "\n",
    "Ładujemy ustawienia i weryfikujemy konfigurację:"
   ]
  },
  {
   "cell_type": "code",
   "execution_count": null,
   "metadata": {},
   "outputs": [],
   "source": [
    "settings = get_settings()\n",
    "\n",
    "print(\"✅ Settings loaded\")\n",
    "print(f\"\\nAgents Configuration:\")\n",
    "print(f\"  Katalizator: {settings.katalizator.model}\")\n",
    "print(f\"  Sceptyk: {settings.sceptyk.model}\")\n",
    "print(f\"  Gubernator: {settings.gubernator.model}\")\n",
    "print(f\"  Syntezator: {settings.syntezator.model}\")\n",
    "print(f\"\\nDebate Config:\")\n",
    "print(f\"  Max cycles: {settings.debate.max_cycles}\")\n",
    "print(f\"  Consensus threshold: {settings.debate.consensus_threshold}\")"
   ]
  },
  {
   "cell_type": "markdown",
   "metadata": {},
   "source": [
    "## 🏗️ Krok 4: Stwórz Graf z Checkpointami\n",
    "\n",
    "Tworzymy graf HEGEMON z włączoną funkcjonalnością Human-in-the-Loop:"
   ]
  },
  {
   "cell_type": "code",
   "execution_count": null,
   "metadata": {},
   "outputs": [],
   "source": [
    "# Stwórz graf z checkpointami\n",
    "graph = create_hegemon_graph_hitl_v3()\n",
    "\n",
    "print(\"✅ HEGEMON graph created with HITL checkpoints\")\n",
    "print(f\"   Nodes: {list(graph.nodes.keys())}\")"
   ]
  },
  {
   "cell_type": "markdown",
   "metadata": {},
   "source": [
    "## 📋 Krok 5: Zdefiniuj Misję\n",
    "\n",
    "Określ zadanie dla agentów:"
   ]
  },
  {
   "cell_type": "code",
   "execution_count": null,
   "metadata": {},
   "outputs": [],
   "source": [
    "# Prosta misja testowa\n",
    "MISSION = \"\"\"\n",
    "Zaprojektuj strategię wdrożenia ML pipeline dla firmy e-commerce.\n",
    "\n",
    "Wymagania:\n",
    "- Budżet: 200k PLN\n",
    "- Timeline: 6 miesięcy\n",
    "- Team: 3 ML engineers + 1 DevOps\n",
    "- Cel: Deployment systemu rekomendacyjnego produktów\n",
    "\n",
    "Dostarcz: Plan wdrożenia z workflow i analizą ryzyka.\n",
    "\"\"\"\n",
    "\n",
    "print(\"📋 Mission defined:\")\n",
    "print(MISSION)"
   ]
  },
  {
   "cell_type": "markdown",
   "metadata": {},
   "source": [
    "## 🎮 Krok 6: Wybierz Tryb Interwencji\n",
    "\n",
    "Dostępne tryby:\n",
    "- **`observer`** - Oglądasz debatę bez możliwości ingerencji (checkpointy są pokazywane, ale automatycznie zatwierdzane)\n",
    "- **`reviewer`** - Możesz zatwierdzać/odrzucać output agentów\n",
    "- **`collaborator`** - Pełna kontrola z możliwością rewizji i dodawania własnych wskazówek"
   ]
  },
  {
   "cell_type": "code",
   "execution_count": null,
   "metadata": {},
   "outputs": [],
   "source": [
    "# Wybierz tryb (zmień na 'collaborator' dla pełnej kontroli)\n",
    "intervention_mode = InterventionMode.REVIEWER\n",
    "\n",
    "# Stwórz stan początkowy\n",
    "initial_state = {\n",
    "    \"mission\": MISSION,\n",
    "    \"contributions\": [],\n",
    "    \"cycle_count\": 1,\n",
    "    \"current_consensus_score\": 0.0,\n",
    "    \"final_plan\": None,\n",
    "    # HITL-specific fields\n",
    "    \"intervention_mode\": intervention_mode.value,\n",
    "    \"current_checkpoint\": None,\n",
    "    \"human_feedback_history\": [],\n",
    "    \"paused_at\": None,\n",
    "    \"revision_count_per_checkpoint\": {},\n",
    "    \"checkpoint_snapshots\": {},\n",
    "}\n",
    "\n",
    "print(f\"✅ State initialized with mode: {intervention_mode.value}\")"
   ]
  },
  {
   "cell_type": "markdown",
   "metadata": {},
   "source": [
    "## 🚀 Krok 7: Uruchom Debatę z Checkpointami\n",
    "\n",
    "**WAŻNE:** Po uruchomieniu tej komórki:\n",
    "1. Debata się rozpocznie\n",
    "2. W checkpointach pojawią się interaktywne widgety (radio buttons, text areas)\n",
    "3. Możesz:\n",
    "   - ✅ **Approve** - zatwierdź output i kontynuuj\n",
    "   - ✏️ **Request Revision** - poproś agenta o poprawki (musisz podać guidance)\n",
    "   - ❌ **Reject** - odrzuć i zakończ debatę\n",
    "   - ⏩ **Auto-Approve** - szybkie zatwierdzenie bez czekania\n",
    "\n",
    "**Naprawione problemy:**\n",
    "- Formularze są czyste dla każdego nowego checkpointu\n",
    "- Widget callbacks działają bez zawieszania kernela\n",
    "- Można użyć \"Auto-Approve\" jeśli nie chcesz czekać 10 minut timeout"
   ]
  },
  {
   "cell_type": "code",
   "execution_count": null,
   "metadata": {},
   "outputs": [],
   "source": [
    "print(\"🎭 Starting HEGEMON debate with Human-in-the-Loop...\")\n",
    "print(\"⏳ This may take a few minutes...\")\n",
    "print(\"\\n\" + \"=\" * 80)\n",
    "\n",
    "# Uruchom debatę\n",
    "final_state = graph.invoke(\n",
    "    initial_state,\n",
    "    config={\"recursion_limit\": 100}\n",
    ")\n",
    "\n",
    "print(\"\\n\" + \"=\" * 80)\n",
    "print(\"✅ Debate completed!\")"
   ]
  },
  {
   "cell_type": "markdown",
   "metadata": {},
   "source": [
    "## 📊 Krok 8: Przejrzyj Wyniki\n",
    "\n",
    "Sprawdź co się wydarzyło w debacie:"
   ]
  },
  {
   "cell_type": "code",
   "execution_count": null,
   "metadata": {},
   "outputs": [],
   "source": [
    "print(\"=\" * 80)\n",
    "print(\"📊 DEBATE SUMMARY\")\n",
    "print(\"=\" * 80)\n",
    "print()\n",
    "\n",
    "print(f\"Total cycles: {final_state['cycle_count']}\")\n",
    "print(f\"Final consensus: {final_state.get('current_consensus_score', 0.0):.2f}\")\n",
    "print(f\"Total contributions: {len(final_state['contributions'])}\")\n",
    "print()\n",
    "\n",
    "print(\"=\" * 80)\n",
    "print(\"👤 HUMAN INTERVENTIONS\")\n",
    "print(\"=\" * 80)\n",
    "print()\n",
    "\n",
    "feedback_history = final_state.get('human_feedback_history', [])\n",
    "print(f\"Total feedback submissions: {len(feedback_history)}\")\n",
    "print(f\"Checkpoints reached: {len(final_state.get('checkpoint_snapshots', {}))}\")\n",
    "print()\n",
    "\n",
    "if feedback_history:\n",
    "    for i, fb in enumerate(feedback_history, 1):\n",
    "        print(f\"{i}. Checkpoint: {fb.get('checkpoint', 'unknown')}\")\n",
    "        print(f\"   Decision: {fb.get('decision', 'unknown')}\")\n",
    "        if fb.get('guidance'):\n",
    "            print(f\"   Guidance: {fb['guidance'][:100]}...\")\n",
    "        print()\n",
    "else:\n",
    "    print(\"No human feedback recorded (observer mode or auto-approved)\")\n",
    "    print()"
   ]
  },
  {
   "cell_type": "markdown",
   "metadata": {},
   "source": [
    "## 📝 Krok 9: Zobacz Finalny Plan\n",
    "\n",
    "Wyświetl wygenerowany plan strategiczny:"
   ]
  },
  {
   "cell_type": "code",
   "execution_count": null,
   "metadata": {},
   "outputs": [],
   "source": [
    "if final_state.get('final_plan'):\n",
    "    plan = final_state['final_plan']\n",
    "    \n",
    "    print(\"=\" * 80)\n",
    "    print(\"🎯 FINAL STRATEGIC PLAN\")\n",
    "    print(\"=\" * 80)\n",
    "    print()\n",
    "    \n",
    "    print(\"📋 MISSION OVERVIEW:\")\n",
    "    print(\"-\" * 80)\n",
    "    print(plan.mission_overview)\n",
    "    print()\n",
    "    \n",
    "    print(f\"👥 REQUIRED AGENTS ({len(plan.required_agents)}):\")\n",
    "    print(\"-\" * 80)\n",
    "    for i, agent in enumerate(plan.required_agents, 1):\n",
    "        print(f\"{i}. {agent.role}\")\n",
    "        print(f\"   {agent.description}\")\n",
    "        print(f\"   Skills: {', '.join(agent.required_skills[:3])}\")\n",
    "        print()\n",
    "    \n",
    "    print(f\"📊 WORKFLOW ({len(plan.workflow)} steps):\")\n",
    "    print(\"-\" * 80)\n",
    "    for step in plan.workflow[:5]:\n",
    "        deps = f\" [depends on: {step.dependencies}]\" if step.dependencies else \"\"\n",
    "        print(f\"{step.step_id}. {step.description}{deps}\")\n",
    "    if len(plan.workflow) > 5:\n",
    "        print(f\"... and {len(plan.workflow) - 5} more steps\")\n",
    "    print()\n",
    "    \n",
    "    print(\"⚠️ RISK ANALYSIS:\")\n",
    "    print(\"-\" * 80)\n",
    "    print(plan.risk_analysis)\n",
    "    print()\n",
    "else:\n",
    "    print(\"❌ No final plan generated\")"
   ]
  },
  {
   "cell_type": "markdown",
   "metadata": {},
   "source": [
    "## 💾 Krok 10: Zapisz Wyniki\n",
    "\n",
    "Eksportuj wyniki do plików:"
   ]
  },
  {
   "cell_type": "code",
   "execution_count": null,
   "metadata": {},
   "outputs": [],
   "source": [
    "import json\n",
    "from datetime import datetime\n",
    "\n",
    "# Stwórz folder output jeśli nie istnieje\n",
    "output_dir = Path(\"output\")\n",
    "output_dir.mkdir(exist_ok=True)\n",
    "\n",
    "# Przygotuj dane do zapisu\n",
    "output_data = {\n",
    "    \"timestamp\": datetime.now().isoformat(),\n",
    "    \"mission\": final_state[\"mission\"],\n",
    "    \"intervention_mode\": final_state[\"intervention_mode\"],\n",
    "    \"debate_summary\": {\n",
    "        \"total_cycles\": final_state[\"cycle_count\"],\n",
    "        \"final_consensus_score\": final_state.get(\"current_consensus_score\", 0.0),\n",
    "        \"total_contributions\": len(final_state[\"contributions\"]),\n",
    "        \"human_interventions\": len(final_state.get(\"human_feedback_history\", [])),\n",
    "    },\n",
    "    \"human_feedback_history\": final_state.get(\"human_feedback_history\", []),\n",
    "    \"contributions\": [\n",
    "        {\n",
    "            \"agent_id\": c.agent_id,\n",
    "            \"type\": c.type,\n",
    "            \"cycle\": c.cycle,\n",
    "            \"content\": c.content,\n",
    "            \"rationale\": c.rationale,\n",
    "        }\n",
    "        for c in final_state[\"contributions\"]\n",
    "    ],\n",
    "}\n",
    "\n",
    "if final_state.get(\"final_plan\"):\n",
    "    output_data[\"final_plan\"] = final_state[\"final_plan\"].model_dump()\n",
    "\n",
    "# Zapisz do pliku JSON\n",
    "timestamp = datetime.now().strftime(\"%Y%m%d_%H%M%S\")\n",
    "output_file = output_dir / f\"hegemon_hitl_{timestamp}.json\"\n",
    "\n",
    "with open(output_file, \"w\", encoding=\"utf-8\") as f:\n",
    "    json.dump(output_data, f, indent=2, ensure_ascii=False, default=str)\n",
    "\n",
    "print(f\"✅ Results saved to: {output_file}\")\n",
    "print(f\"📊 File size: {output_file.stat().st_size / 1024:.1f} KB\")"
   ]
  },
  {
   "cell_type": "markdown",
   "metadata": {},
   "source": [
    "## 🎉 Gotowe!\n",
    "\n",
    "### Co dalej?\n",
    "\n",
    "1. **Eksperymentuj z trybami:**\n",
    "   - Zmień `intervention_mode` na `InterventionMode.COLLABORATOR` dla pełnej kontroli\n",
    "   - Użyj `InterventionMode.OBSERVER` żeby tylko obserwować\n",
    "\n",
    "2. **Testuj guidance:**\n",
    "   - Przy \"Request Revision\" dodaj szczegółowe wskazówki\n",
    "   - Sprawdź jak agent odpowiada na Twoje sugestie\n",
    "\n",
    "3. **Użyj zaawansowanych opcji:**\n",
    "   - \"Priority Claims\" - zaznacz kluczowe twierdzenia\n",
    "   - \"Flagged Concerns\" - wskaż wątpliwości dla Sceptyka\n",
    "\n",
    "### Naprawione Problemy:\n",
    "- ✅ Session state resetuje się między checkpointami\n",
    "- ✅ Widget callbacks działają płynnie\n",
    "- ✅ Dodano przycisk \"Auto-Approve\"\n",
    "- ✅ Lepsza obsługa błędów\n",
    "\n",
    "**Miłej zabawy z HEGEMON Phase 2.4!** 🚀"
   ]
  }
 ],
 "metadata": {
  "kernelspec": {
   "display_name": "Python 3",
   "language": "python",
   "name": "python3"
  },
  "language_info": {
   "codemirror_mode": {
    "name": "ipython",
    "version": 3
   },
   "file_extension": ".py",
   "mimetype": "text/x-python",
   "name": "python",
   "nbconvert_exporter": "python",
   "pygments_lexer": "ipython3",
   "version": "3.11.0"
  }
 },
 "nbformat": 4,
 "nbformat_minor": 4
}
