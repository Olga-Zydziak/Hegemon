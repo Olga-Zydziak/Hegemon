{
 "cells": [
  {
   "cell_type": "markdown",
   "metadata": {},
   "source": [
    "# 🤖 HEGEMON - Human-in-the-Loop Debate\n",
    "\n",
    "**Phase 2.3/2.4**: Interactive debate with review generation and feedback collection\n",
    "\n",
    "---\n",
    "\n",
    "## 📋 Jak to działa?\n",
    "\n",
    "1. **Debata startuje** - Katalizator generuje tezę\n",
    "2. **Checkpoint pojawia się** - Widzisz podsumowanie i możesz zareagować\n",
    "3. **Podajesz feedback** - Approve/Revise/Reject\n",
    "4. **Debata kontynuuje** - Agent uwzględnia Twój feedback\n",
    "5. **Powtarzaj** aż do syntezy\n",
    "\n",
    "**Checkpointy:** POST_THESIS → POST_EVALUATION → PRE_SYNTHESIS"
   ]
  },
  {
   "cell_type": "markdown",
   "metadata": {},
   "source": [
    "## 1️⃣ Setup (Run Once)"
   ]
  },
  {
   "cell_type": "code",
   "execution_count": 1,
   "metadata": {
    "tags": []
   },
   "outputs": [
    {
     "ename": "ImportError",
     "evalue": "cannot import name 'secretmanager' from 'google.cloud' (unknown location)",
     "output_type": "error",
     "traceback": [
      "\u001b[31m---------------------------------------------------------------------------\u001b[39m",
      "\u001b[31mImportError\u001b[39m                               Traceback (most recent call last)",
      "\u001b[36mCell\u001b[39m\u001b[36m \u001b[39m\u001b[32mIn[1]\u001b[39m\u001b[32m, line 11\u001b[39m\n\u001b[32m      3\u001b[39m \u001b[38;5;28;01mfrom\u001b[39;00m\u001b[38;5;250m \u001b[39m\u001b[34;01mpathlib\u001b[39;00m\u001b[38;5;250m \u001b[39m\u001b[38;5;28;01mimport\u001b[39;00m Path\n\u001b[32m      5\u001b[39m \u001b[38;5;66;03m# # Dodaj project root do path (jeśli potrzebne)\u001b[39;00m\n\u001b[32m      6\u001b[39m \u001b[38;5;66;03m# project_root = Path.cwd()\u001b[39;00m\n\u001b[32m      7\u001b[39m \u001b[38;5;66;03m# if str(project_root) not in sys.path:\u001b[39;00m\n\u001b[32m      8\u001b[39m \u001b[38;5;66;03m#     sys.path.insert(0, str(project_root))\u001b[39;00m\n\u001b[32m      9\u001b[39m \n\u001b[32m     10\u001b[39m \u001b[38;5;66;03m# Główne importy HITL\u001b[39;00m\n\u001b[32m---> \u001b[39m\u001b[32m11\u001b[39m \u001b[38;5;28;01mfrom\u001b[39;00m\u001b[38;5;250m \u001b[39m\u001b[34;01mhegemon\u001b[39;00m\u001b[34;01m.\u001b[39;00m\u001b[34;01mgraph_hitl_v3\u001b[39;00m\u001b[38;5;250m \u001b[39m\u001b[38;5;28;01mimport\u001b[39;00m (\n\u001b[32m     12\u001b[39m     create_hegemon_graph_hitl_v3,\n\u001b[32m     13\u001b[39m     run_debate_hitl_v3,\n\u001b[32m     14\u001b[39m )\n\u001b[32m     15\u001b[39m \u001b[38;5;28;01mfrom\u001b[39;00m\u001b[38;5;250m \u001b[39m\u001b[34;01mhegemon\u001b[39;00m\u001b[34;01m.\u001b[39;00m\u001b[34;01mschemas_hitl\u001b[39;00m\u001b[38;5;250m \u001b[39m\u001b[38;5;28;01mimport\u001b[39;00m DebateStateHITL\n\u001b[32m     16\u001b[39m \u001b[38;5;28;01mfrom\u001b[39;00m\u001b[38;5;250m \u001b[39m\u001b[34;01mhegemon\u001b[39;00m\u001b[34;01m.\u001b[39;00m\u001b[34;01mhitl\u001b[39;00m\u001b[38;5;250m \u001b[39m\u001b[38;5;28;01mimport\u001b[39;00m InterventionMode\n",
      "\u001b[36mFile \u001b[39m\u001b[32m~/olga_zydziak/version_beta/Folder/hegemon_mvp/hegemon/__init__.py:12\u001b[39m\n\u001b[32m      9\u001b[39m __version__ = \u001b[33m\"\u001b[39m\u001b[33m0.1.0\u001b[39m\u001b[33m\"\u001b[39m\n\u001b[32m     11\u001b[39m \u001b[38;5;66;03m# Export core components from submodules\u001b[39;00m\n\u001b[32m---> \u001b[39m\u001b[32m12\u001b[39m \u001b[38;5;28;01mfrom\u001b[39;00m\u001b[38;5;250m \u001b[39m\u001b[34;01mhegemon\u001b[39;00m\u001b[34;01m.\u001b[39;00m\u001b[34;01mconfig\u001b[39;00m\u001b[38;5;250m \u001b[39m\u001b[38;5;28;01mimport\u001b[39;00m (\n\u001b[32m     13\u001b[39m     AgentConfig,\n\u001b[32m     14\u001b[39m     DebateConfig,\n\u001b[32m     15\u001b[39m     HegemonSettings,\n\u001b[32m     16\u001b[39m     get_agent_config,\n\u001b[32m     17\u001b[39m     get_settings,\n\u001b[32m     18\u001b[39m )\n\u001b[32m     19\u001b[39m \u001b[38;5;28;01mfrom\u001b[39;00m\u001b[38;5;250m \u001b[39m\u001b[34;01mhegemon\u001b[39;00m\u001b[34;01m.\u001b[39;00m\u001b[34;01mgraph\u001b[39;00m\u001b[38;5;250m \u001b[39m\u001b[38;5;28;01mimport\u001b[39;00m create_hegemon_graph, run_debate\n\u001b[32m     20\u001b[39m \u001b[38;5;28;01mfrom\u001b[39;00m\u001b[38;5;250m \u001b[39m\u001b[34;01mhegemon\u001b[39;00m\u001b[34;01m.\u001b[39;00m\u001b[34;01mschemas\u001b[39;00m\u001b[38;5;250m \u001b[39m\u001b[38;5;28;01mimport\u001b[39;00m (\n\u001b[32m     21\u001b[39m     AgentContribution,\n\u001b[32m     22\u001b[39m     DebateState,\n\u001b[32m   (...)\u001b[39m\u001b[32m     26\u001b[39m     WorkflowStep,\n\u001b[32m     27\u001b[39m )\n",
      "\u001b[36mFile \u001b[39m\u001b[32m~/olga_zydziak/version_beta/Folder/hegemon_mvp/hegemon/config/__init__.py:19\u001b[39m\n\u001b[32m      1\u001b[39m \u001b[33;03m\"\"\"\u001b[39;00m\n\u001b[32m      2\u001b[39m \u001b[33;03mHEGEMON Configuration Package.\u001b[39;00m\n\u001b[32m      3\u001b[39m \n\u001b[32m      4\u001b[39m \u001b[33;03mExports all configuration classes and functions.\u001b[39;00m\n\u001b[32m      5\u001b[39m \u001b[33;03m\"\"\"\u001b[39;00m\n\u001b[32m      7\u001b[39m \u001b[38;5;28;01mfrom\u001b[39;00m\u001b[38;5;250m \u001b[39m\u001b[34;01mhegemon\u001b[39;00m\u001b[34;01m.\u001b[39;00m\u001b[34;01mconfig\u001b[39;00m\u001b[34;01m.\u001b[39;00m\u001b[34;01mprompts\u001b[39;00m\u001b[38;5;250m \u001b[39m\u001b[38;5;28;01mimport\u001b[39;00m (\n\u001b[32m      8\u001b[39m     GOVERNOR_SYSTEM_PROMPT,\n\u001b[32m      9\u001b[39m     GOVERNOR_USER_PROMPT_TEMPLATE,\n\u001b[32m   (...)\u001b[39m\u001b[32m     17\u001b[39m     get_user_prompt_template,\n\u001b[32m     18\u001b[39m )\n\u001b[32m---> \u001b[39m\u001b[32m19\u001b[39m \u001b[38;5;28;01mfrom\u001b[39;00m\u001b[38;5;250m \u001b[39m\u001b[34;01mhegemon\u001b[39;00m\u001b[34;01m.\u001b[39;00m\u001b[34;01mconfig\u001b[39;00m\u001b[34;01m.\u001b[39;00m\u001b[34;01msettings\u001b[39;00m\u001b[38;5;250m \u001b[39m\u001b[38;5;28;01mimport\u001b[39;00m (\n\u001b[32m     20\u001b[39m     AgentConfig,\n\u001b[32m     21\u001b[39m     DebateConfig,\n\u001b[32m     22\u001b[39m     GubernatorConfig,\n\u001b[32m     23\u001b[39m     HegemonSettings,\n\u001b[32m     24\u001b[39m     KatalizatorConfig,\n\u001b[32m     25\u001b[39m     SceptyKConfig,\n\u001b[32m     26\u001b[39m     SyntezatorConfig,\n\u001b[32m     27\u001b[39m     basic_config_agent,\n\u001b[32m     28\u001b[39m     get_agent_config,\n\u001b[32m     29\u001b[39m     get_api_key_for_provider,\n\u001b[32m     30\u001b[39m     get_basic_config_for_agent,\n\u001b[32m     31\u001b[39m     get_settings,\n\u001b[32m     32\u001b[39m )\n\u001b[32m     34\u001b[39m __all__ = [\n\u001b[32m     35\u001b[39m     \u001b[38;5;66;03m# Settings\u001b[39;00m\n\u001b[32m     36\u001b[39m     \u001b[33m\"\u001b[39m\u001b[33mHegemonSettings\u001b[39m\u001b[33m\"\u001b[39m,\n\u001b[32m   (...)\u001b[39m\u001b[32m     58\u001b[39m     \u001b[33m\"\u001b[39m\u001b[33mget_user_prompt_template\u001b[39m\u001b[33m\"\u001b[39m,\n\u001b[32m     59\u001b[39m ]\n",
      "\u001b[36mFile \u001b[39m\u001b[32m~/olga_zydziak/version_beta/Folder/hegemon_mvp/hegemon/config/settings.py:17\u001b[39m\n\u001b[32m     14\u001b[39m \u001b[38;5;28;01mfrom\u001b[39;00m\u001b[38;5;250m \u001b[39m\u001b[34;01mpathlib\u001b[39;00m\u001b[38;5;250m \u001b[39m\u001b[38;5;28;01mimport\u001b[39;00m Path\n\u001b[32m     15\u001b[39m \u001b[38;5;28;01mfrom\u001b[39;00m\u001b[38;5;250m \u001b[39m\u001b[34;01mtyping\u001b[39;00m\u001b[38;5;250m \u001b[39m\u001b[38;5;28;01mimport\u001b[39;00m Literal\n\u001b[32m---> \u001b[39m\u001b[32m17\u001b[39m \u001b[38;5;28;01mfrom\u001b[39;00m\u001b[38;5;250m \u001b[39m\u001b[34;01mgoogle\u001b[39;00m\u001b[34;01m.\u001b[39;00m\u001b[34;01mcloud\u001b[39;00m\u001b[38;5;250m \u001b[39m\u001b[38;5;28;01mimport\u001b[39;00m secretmanager\n\u001b[32m     18\u001b[39m \u001b[38;5;28;01mfrom\u001b[39;00m\u001b[38;5;250m \u001b[39m\u001b[34;01mpydantic\u001b[39;00m\u001b[38;5;250m \u001b[39m\u001b[38;5;28;01mimport\u001b[39;00m BaseModel, Field, model_validator\n\u001b[32m     19\u001b[39m \u001b[38;5;28;01mfrom\u001b[39;00m\u001b[38;5;250m \u001b[39m\u001b[34;01mpydantic_settings\u001b[39;00m\u001b[38;5;250m \u001b[39m\u001b[38;5;28;01mimport\u001b[39;00m BaseSettings, SettingsConfigDict\n",
      "\u001b[31mImportError\u001b[39m: cannot import name 'secretmanager' from 'google.cloud' (unknown location)"
     ]
    }
   ],
   "source": [
    "# Importy\n",
    "import sys\n",
    "from pathlib import Path\n",
    "\n",
    "# # Dodaj project root do path (jeśli potrzebne)\n",
    "# project_root = Path.cwd()\n",
    "# if str(project_root) not in sys.path:\n",
    "#     sys.path.insert(0, str(project_root))\n",
    "\n",
    "# Główne importy HITL\n",
    "from hegemon.graph_hitl_v3 import (\n",
    "    create_hegemon_graph_hitl_v3,\n",
    "    run_debate_hitl_v3,\n",
    ")\n",
    "from hegemon.schemas_hitl import DebateStateHITL\n",
    "from hegemon.hitl import InterventionMode\n",
    "from hegemon.config import get_settings\n",
    "\n",
    "print(\"✅ Imports successful!\")"
   ]
  },
  {
   "cell_type": "code",
   "execution_count": null,
   "metadata": {},
   "outputs": [],
   "source": [
    "# Weryfikuj konfigurację\n",
    "settings = get_settings()\n",
    "\n",
    "print(f\"Configuration:\")\n",
    "print(f\"  Katalizator: {settings.katalizator.model}\")\n",
    "print(f\"  Sceptyk: {settings.sceptyk.model}\")\n",
    "print(f\"  Gubernator: {settings.gubernator.model}\")\n",
    "print(f\"  Syntezator: {settings.syntezator.model}\")\n",
    "print(f\"\\nDebate settings:\")\n",
    "print(f\"  Consensus threshold: {settings.debate.consensus_threshold}\")\n",
    "print(f\"  Max cycles: {settings.debate.max_cycles}\")"
   ]
  },
  {
   "cell_type": "markdown",
   "metadata": {},
   "source": [
    "## 2️⃣ Define Mission"
   ]
  },
  {
   "cell_type": "code",
   "execution_count": null,
   "metadata": {},
   "outputs": [],
   "source": [
    "# Zdefiniuj swoją misję\n",
    "MISSION = \"\"\"\n",
    "Design a comprehensive AI strategy for a mid-size e-commerce company.\n",
    "\n",
    "Context:\n",
    "- Company: 150 employees, $50M annual revenue\n",
    "- Current tech stack: Shopify + basic analytics\n",
    "- Budget: $500K annually for AI initiatives\n",
    "- Timeline: 12 months\n",
    "\n",
    "Requirements:\n",
    "1. Improve customer experience (personalization, recommendations)\n",
    "2. Reduce operational costs (automation, optimization)\n",
    "3. GDPR compliant\n",
    "4. Limited ML expertise in-house\n",
    "\n",
    "Deliverables needed:\n",
    "- Technology stack recommendations\n",
    "- Phased implementation roadmap (Q1-Q4)\n",
    "- Team structure and hiring plan\n",
    "- Risk analysis\n",
    "- Success metrics (KPIs)\n",
    "\"\"\"\n",
    "\n",
    "print(\"📋 Mission defined:\")\n",
    "print(MISSION)"
   ]
  },
  {
   "cell_type": "markdown",
   "metadata": {},
   "source": [
    "## 3️⃣ Select Intervention Mode\n",
    "\n",
    "**Modes:**\n",
    "- `observer` - Pasywny (tylko 1 checkpoint na końcu) ⏱️ ~5 min\n",
    "- `reviewer` - Standard (3 checkpointy) ⏱️ ~15 min ⭐ **RECOMMENDED**\n",
    "- `collaborator` - Szczegółowy (wszystkie checkpointy + guidance) ⏱️ ~30 min"
   ]
  },
  {
   "cell_type": "code",
   "execution_count": null,
   "metadata": {},
   "outputs": [],
   "source": [
    "# Wybierz tryb\n",
    "MODE = \"reviewer\"  # Zmień na \"observer\" lub \"collaborator\"\n",
    "\n",
    "print(f\"✅ Selected mode: {MODE}\")\n",
    "print(f\"\\nExpected checkpoints:\")\n",
    "if MODE == \"observer\":\n",
    "    print(\"  - PRE_SYNTHESIS (1x przed syntezą)\")\n",
    "elif MODE == \"reviewer\":\n",
    "    print(\"  - POST_THESIS (po każdym Katalizatorze)\")\n",
    "    print(\"  - POST_EVALUATION (po Gubernatorze)\")\n",
    "    print(\"  - PRE_SYNTHESIS (przed Syntetatorem)\")\n",
    "else:\n",
    "    print(\"  - All checkpoints + detailed guidance\")"
   ]
  },
  {
   "cell_type": "markdown",
   "metadata": {},
   "source": [
    "## 4️⃣ Run HITL Debate (Interactive!)\n",
    "\n",
    "⚠️ **UWAGA:** Ta komórka zatrzyma się na każdym checkpoincie i poczeka na Twój feedback!\n",
    "\n",
    "**Co zobaczysz:**\n",
    "1. **Executive Summary** - Krótkie podsumowanie co się wydarzyło\n",
    "2. **Key Points** - 3-5 najważniejszych faktów\n",
    "3. **Important Claims** - Claims z niską pewnością (highlighted)\n",
    "4. **Suggested Actions** - AI sugeruje co zrobić\n",
    "5. **Full Output** - Pełna odpowiedź agenta\n",
    "6. **Your Feedback** - Widgety do podjęcia decyzji\n",
    "\n",
    "**Dostępne akcje:**\n",
    "- ✅ **Approve** - Kontynuuj (agent zrobił dobrze)\n",
    "- ✏️ **Request Revision** - Agent ma poprawić (dodaj guidance)\n",
    "- ❌ **Reject** - Zakończ debatę (coś poszło bardzo źle)"
   ]
  },
  {
   "cell_type": "code",
   "execution_count": null,
   "metadata": {},
   "outputs": [],
   "source": [
    "# 🚀 START DEBATE!\n",
    "print(\"=\"*80)\n",
    "print(\"🤖 Starting HITL Debate...\")\n",
    "print(\"=\"*80)\n",
    "print(\"\\n⏳ Please wait for first checkpoint...\\n\")\n",
    "\n",
    "# Run debate (INTERACTIVE - będzie czekać na Twój input!)\n",
    "final_state = run_debate_hitl_v3(\n",
    "    mission=MISSION,\n",
    "    intervention_mode=MODE,\n",
    ")\n",
    "\n",
    "print(\"\\n\" + \"=\"*80)\n",
    "print(\"✅ Debate Complete!\")\n",
    "print(\"=\"*80)"
   ]
  },
  {
   "cell_type": "markdown",
   "metadata": {},
   "source": [
    "## 5️⃣ Review Results"
   ]
  },
  {
   "cell_type": "code",
   "execution_count": null,
   "metadata": {},
   "outputs": [],
   "source": [
    "# Summary statistics\n",
    "print(\"📊 DEBATE SUMMARY\")\n",
    "print(\"=\"*80)\n",
    "print(f\"Total cycles: {final_state.cycle_count}\")\n",
    "print(f\"Total contributions: {len(final_state.contributions)}\")\n",
    "print(f\"Human feedbacks provided: {len(final_state.human_feedback)}\")\n",
    "print(f\"Revisions requested: {final_state.revision_count}\")\n",
    "print(f\"Final consensus score: {final_state.current_consensus_score:.2f}\")\n",
    "print()"
   ]
  },
  {
   "cell_type": "code",
   "execution_count": null,
   "metadata": {},
   "outputs": [],
   "source": [
    "# Feedback breakdown\n",
    "if final_state.human_feedback:\n",
    "    print(\"📝 YOUR FEEDBACK HISTORY\")\n",
    "    print(\"=\"*80)\n",
    "    \n",
    "    for i, feedback in enumerate(final_state.human_feedback, 1):\n",
    "        print(f\"\\n{i}. Checkpoint: {feedback.checkpoint.value}\")\n",
    "        print(f\"   Decision: {feedback.decision.value}\")\n",
    "        print(f\"   Timestamp: {feedback.timestamp.strftime('%H:%M:%S')}\")\n",
    "        \n",
    "        if feedback.guidance:\n",
    "            print(f\"   Your guidance: {feedback.guidance[:100]}...\")\n",
    "        \n",
    "        if feedback.priority_claims:\n",
    "            print(f\"   Priority claims: {len(feedback.priority_claims)}\")\n",
    "        \n",
    "        if feedback.flagged_concerns:\n",
    "            print(f\"   Flagged concerns: {len(feedback.flagged_concerns)}\")"
   ]
  },
  {
   "cell_type": "code",
   "execution_count": null,
   "metadata": {},
   "outputs": [],
   "source": [
    "# Final Plan overview\n",
    "if final_state.final_plan:\n",
    "    print(\"\\n📋 FINAL PLAN OVERVIEW\")\n",
    "    print(\"=\"*80)\n",
    "    \n",
    "    plan = final_state.final_plan\n",
    "    \n",
    "    print(f\"\\nMission: {plan.mission_overview[:200]}...\")\n",
    "    print(f\"\\nRequired Agents: {len(plan.required_agents)}\")\n",
    "    for agent in plan.required_agents[:5]:  # Show first 5\n",
    "        print(f\"  - {agent.role}: {', '.join(agent.skills[:3])}\")\n",
    "    \n",
    "    print(f\"\\nWorkflow Steps: {len(plan.workflow)}\")\n",
    "    for step in plan.workflow[:5]:  # Show first 5\n",
    "        print(f\"  {step.step_number}. {step.description[:60]}...\")\n",
    "        print(f\"     Agent: {step.assigned_agent} | Duration: {step.estimated_duration}\")\n",
    "    \n",
    "    print(f\"\\nTotal workflow duration: {plan.total_estimated_duration}\")\n",
    "    print(f\"Risk score: {plan.overall_risk_score:.2f}\")\n",
    "else:\n",
    "    print(\"\\n⚠️ No final plan generated (debate may have been rejected)\")"
   ]
  },
  {
   "cell_type": "markdown",
   "metadata": {},
   "source": [
    "## 6️⃣ Save Results"
   ]
  },
  {
   "cell_type": "code",
   "execution_count": null,
   "metadata": {},
   "outputs": [],
   "source": [
    "# Save to JSON\n",
    "import json\n",
    "from datetime import datetime\n",
    "\n",
    "output_dir = Path(\"output\")\n",
    "output_dir.mkdir(exist_ok=True)\n",
    "\n",
    "timestamp = datetime.now().strftime(\"%Y%m%d_%H%M%S\")\n",
    "output_file = output_dir / f\"hegemon_hitl_{MODE}_{timestamp}.json\"\n",
    "\n",
    "with open(output_file, 'w', encoding='utf-8') as f:\n",
    "    json.dump(\n",
    "        final_state.model_dump(mode='json'),\n",
    "        f,\n",
    "        indent=2,\n",
    "        ensure_ascii=False,\n",
    "    )\n",
    "\n",
    "print(f\"💾 Results saved to: {output_file}\")\n",
    "print(f\"   File size: {output_file.stat().st_size / 1024:.1f} KB\")"
   ]
  },
  {
   "cell_type": "markdown",
   "metadata": {},
   "source": [
    "## 7️⃣ Analyze Contributions (Optional)"
   ]
  },
  {
   "cell_type": "code",
   "execution_count": null,
   "metadata": {},
   "outputs": [],
   "source": [
    "# Show all agent contributions\n",
    "print(\"🔍 FULL DEBATE HISTORY\")\n",
    "print(\"=\"*80)\n",
    "\n",
    "for contrib in final_state.contributions:\n",
    "    print(f\"\\n{'='*80}\")\n",
    "    print(f\"Agent: {contrib.agent_id} | Type: {contrib.type} | Cycle: {contrib.cycle}\")\n",
    "    print(f\"{'='*80}\")\n",
    "    print(f\"\\n{contrib.content[:500]}...\")\n",
    "    print(f\"\\nRationale: {contrib.rationale[:200]}...\")"
   ]
  },
  {
   "cell_type": "markdown",
   "metadata": {},
   "source": [
    "## 8️⃣ Metrics & Analytics"
   ]
  },
  {
   "cell_type": "code",
   "execution_count": null,
   "metadata": {},
   "outputs": [],
   "source": [
    "# Calculate metrics\n",
    "from collections import Counter\n",
    "\n",
    "print(\"📈 PERFORMANCE METRICS\")\n",
    "print(\"=\"*80)\n",
    "\n",
    "# Intervention metrics\n",
    "intervention_rate = len(final_state.human_feedback) / max(final_state.cycle_count, 1)\n",
    "print(f\"\\nIntervention rate: {intervention_rate:.2f} feedbacks/cycle\")\n",
    "\n",
    "# Decision breakdown\n",
    "if final_state.human_feedback:\n",
    "    decisions = Counter(f.decision.value for f in final_state.human_feedback)\n",
    "    total = len(final_state.human_feedback)\n",
    "    \n",
    "    print(f\"\\nDecision breakdown:\")\n",
    "    for decision, count in decisions.items():\n",
    "        percentage = (count / total) * 100\n",
    "        print(f\"  {decision}: {count} ({percentage:.1f}%)\")\n",
    "    \n",
    "    approval_rate = decisions.get('approve', 0) / total\n",
    "    print(f\"\\nApproval rate: {approval_rate:.1%}\")\n",
    "\n",
    "# Revision metrics\n",
    "revision_rate = final_state.revision_count / max(final_state.cycle_count, 1)\n",
    "print(f\"\\nRevision rate: {revision_rate:.2f} revisions/cycle\")\n",
    "\n",
    "# Quality indicator\n",
    "quality_score = final_state.current_consensus_score * approval_rate\n",
    "print(f\"\\nQuality score: {quality_score:.2f} (consensus × approval rate)\")"
   ]
  },
  {
   "cell_type": "markdown",
   "metadata": {},
   "source": [
    "---\n",
    "\n",
    "## 🎉 Done!\n",
    "\n",
    "**Next steps:**\n",
    "1. Review the final plan in detail\n",
    "2. Export to your preferred format (PDF, Word, etc.)\n",
    "3. Share with stakeholders\n",
    "4. Run another debate with different intervention mode to compare\n",
    "\n",
    "**Tips:**\n",
    "- Use `observer` mode for quick iterations\n",
    "- Use `reviewer` mode for production (best balance)\n",
    "- Use `collaborator` mode for critical decisions\n",
    "- Provide specific guidance in revisions for best results"
   ]
  }
 ],
 "metadata": {
  "environment": {
   "kernel": "phdt-py311",
   "name": "workbench-notebooks.m129",
   "type": "gcloud",
   "uri": "us-docker.pkg.dev/deeplearning-platform-release/gcr.io/workbench-notebooks:m129"
  },
  "kernelspec": {
   "display_name": "phdt (Python 3.11)",
   "language": "python",
   "name": "phdt-py311"
  },
  "language_info": {
   "codemirror_mode": {
    "name": "ipython",
    "version": 3
   },
   "file_extension": ".py",
   "mimetype": "text/x-python",
   "name": "python",
   "nbconvert_exporter": "python",
   "pygments_lexer": "ipython3",
   "version": "3.11.13"
  }
 },
 "nbformat": 4,
 "nbformat_minor": 4
}
