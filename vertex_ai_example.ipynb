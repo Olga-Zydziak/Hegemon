{
 "cells": [
  {
   "cell_type": "markdown",
   "metadata": {},
   "source": [
    "# 🎯 HEGEMON Phase 2.4 - Vertex AI Version\n",
    "\n",
    "**Wersja zoptymalizowana dla Vertex AI JupyterLab!**\n",
    "\n",
    "## ✅ Co zostało naprawione:\n",
    "- **Prosty text-based UI** zamiast ipywidgets (które nie działają w JupyterLab)\n",
    "- Używa zwykłego `input()` - działa **zawsze** i **wszędzie**\n",
    "- Zero problemów z widget callbacks\n",
    "- Pełna kompatybilność z Vertex AI, Colab, Kaggle"
   ]
  },
  {
   "cell_type": "markdown",
   "metadata": {},
   "source": [
    "## 📦 Krok 1: Podstawowe Importy"
   ]
  },
  {
   "cell_type": "code",
   "execution_count": null,
   "metadata": {},
   "outputs": [],
   "source": [
    "import sys\n",
    "import logging\n",
    "from pathlib import Path\n",
    "\n",
    "# Setup logging\n",
    "logging.basicConfig(\n",
    "    level=logging.INFO,\n",
    "    format='%(asctime)s - %(levelname)s - %(message)s'\n",
    ")\n",
    "logger = logging.getLogger(__name__)\n",
    "\n",
    "print(\"✅ Basic imports ready\")"
   ]
  },
  {
   "cell_type": "markdown",
   "metadata": {},
   "source": [
    "## 🔧 Krok 2: Import HEGEMON z Simple UI"
   ]
  },
  {
   "cell_type": "code",
   "execution_count": null,
   "metadata": {},
   "outputs": [],
   "source": [
    "# Import głównych komponentów HEGEMON\n",
    "from hegemon.graph_hitl_v3 import create_hegemon_graph_hitl_v3\n",
    "from hegemon.config.settings import get_settings\n",
    "\n",
    "# Import modeli HITL\n",
    "from hegemon.hitl import (\n",
    "    SimpleCheckpointUI,  # ← NOWY! Text-based UI dla Vertex AI\n",
    "    InterventionMode,\n",
    "    FeedbackDecision,\n",
    ")\n",
    "\n",
    "print(\"✅ HITL components imported (Simple UI version)\")\n",
    "print(f\"   HITL version: {__import__('hegemon.hitl').__version__}\")"
   ]
  },
  {
   "cell_type": "markdown",
   "metadata": {},
   "source": [
    "## ⚙️ Krok 3: Konfiguracja"
   ]
  },
  {
   "cell_type": "code",
   "execution_count": null,
   "metadata": {},
   "outputs": [],
   "source": [
    "settings = get_settings()\n",
    "\n",
    "print(\"✅ Settings loaded\")\n",
    "print(f\"\\nAgents Configuration:\")\n",
    "print(f\"  Katalizator: {settings.katalizator.model}\")\n",
    "print(f\"  Sceptyk: {settings.sceptyk.model}\")\n",
    "print(f\"  Gubernator: {settings.gubernator.model}\")\n",
    "print(f\"  Syntezator: {settings.syntezator.model}\")"
   ]
  },
  {
   "cell_type": "markdown",
   "metadata": {},
   "source": [
    "## 🏗️ Krok 4: Stwórz Graf z Simple UI\n",
    "\n",
    "**KLUCZOWE:** Używamy `use_simple_ui=True` dla Vertex AI!"
   ]
  },
  {
   "cell_type": "code",
   "execution_count": null,
   "metadata": {},
   "outputs": [],
   "source": [
    "# ⚡ WAŻNE: use_simple_ui=True dla Vertex AI!\n",
    "graph = create_hegemon_graph_hitl_v3(use_simple_ui=True)\n",
    "\n",
    "print(\"✅ HEGEMON graph created with Simple Text-Based UI\")\n",
    "print(\"   ✨ Perfect for Vertex AI JupyterLab!\")\n",
    "print(f\"\\n   Nodes: {list(graph.nodes.keys())}\")"
   ]
  },
  {
   "cell_type": "markdown",
   "metadata": {},
   "source": [
    "## 📋 Krok 5: Zdefiniuj Misję"
   ]
  },
  {
   "cell_type": "code",
   "execution_count": null,
   "metadata": {},
   "outputs": [],
   "source": [
    "# Prosta misja testowa\n",
    "MISSION = \"\"\"\n",
    "Zaprojektuj strategię wdrożenia systemu ML dla firmy e-commerce.\n",
    "\n",
    "Wymagania:\n",
    "- Budżet: 150k PLN\n",
    "- Timeline: 4 miesiące\n",
    "- Team: 2 ML engineers + 1 DevOps\n",
    "- Cel: System rekomendacji produktów\n",
    "\n",
    "Dostarcz: Plan wdrożenia z workflow i analizą ryzyka.\n",
    "\"\"\"\n",
    "\n",
    "print(\"📋 Mission defined:\")\n",
    "print(MISSION)"
   ]
  },
  {
   "cell_type": "markdown",
   "metadata": {},
   "source": [
    "## 🎮 Krok 6: Ustaw Stan Początkowy"
   ]
  },
  {
   "cell_type": "code",
   "execution_count": null,
   "metadata": {},
   "outputs": [],
   "source": [
    "# Tryb: reviewer (możesz zmienić na 'collaborator' dla pełnej kontroli)\n",
    "intervention_mode = InterventionMode.REVIEWER\n",
    "\n",
    "initial_state = {\n",
    "    \"mission\": MISSION,\n",
    "    \"contributions\": [],\n",
    "    \"cycle_count\": 1,\n",
    "    \"current_consensus_score\": 0.0,\n",
    "    \"final_plan\": None,\n",
    "    # HITL config\n",
    "    \"intervention_mode\": intervention_mode.value,\n",
    "    \"current_checkpoint\": None,\n",
    "    \"human_feedback_history\": [],\n",
    "    \"paused_at\": None,\n",
    "    \"revision_count_per_checkpoint\": {},\n",
    "    \"checkpoint_snapshots\": {},\n",
    "}\n",
    "\n",
    "print(f\"✅ State initialized with mode: {intervention_mode.value}\")"
   ]
  },
  {
   "cell_type": "markdown",
   "metadata": {},
   "source": [
    "## 🚀 Krok 7: Uruchom Debatę\n",
    "\n",
    "### 💡 Jak to działa w Vertex AI:\n",
    "\n",
    "1. **Debata startuje** - agenci zaczynają dyskusję\n",
    "2. **Checkpoint pojawia się** - widzisz podsumowanie output agenta\n",
    "3. **Pojawia się prompt tekstowy:**\n",
    "   ```\n",
    "   Options:\n",
    "     1 - ✅ Approve (continue)\n",
    "     2 - ✏️ Request Revision (provide guidance)\n",
    "     3 - ❌ Reject (end debate)\n",
    "   \n",
    "   Enter your choice (1/2/3):\n",
    "   ```\n",
    "\n",
    "4. **Wpisujesz numer** (np. `1`) i klikasz Enter\n",
    "5. **Debata kontynuuje!**\n",
    "\n",
    "### ✅ Zalety tej wersji:\n",
    "- ✨ **Działa ZAWSZE** - nie potrzeba ipywidgets\n",
    "- ⚡ **Bez zawieszania** - prosty input() jest niezawodny\n",
    "- 🎯 **Szybkie** - jedna linijka, Enter, gotowe\n",
    "\n",
    "---\n",
    "\n",
    "**Gotowy? Uruchom komórkę poniżej!**"
   ]
  },
  {
   "cell_type": "code",
   "execution_count": null,
   "metadata": {},
   "outputs": [],
   "source": [
    "print(\"🎭 Starting HEGEMON debate with Text-Based UI...\")\n",
    "print(\"\\n📝 INSTRUKCJE:\")\n",
    "print(\"   - W checkpointach zobaczysz opcje 1/2/3\")\n",
    "print(\"   - Wpisz numer i kliknij Enter\")\n",
    "print(\"   - 1 = Approve, 2 = Revise, 3 = Reject\")\n",
    "print(\"\\n\" + \"=\" * 80)\n",
    "\n",
    "# Uruchom debatę\n",
    "final_state = graph.invoke(\n",
    "    initial_state,\n",
    "    config={\"recursion_limit\": 100}\n",
    ")\n",
    "\n",
    "print(\"\\n\" + \"=\" * 80)\n",
    "print(\"✅ Debate completed!\")"
   ]
  },
  {
   "cell_type": "markdown",
   "metadata": {},
   "source": [
    "## 📊 Krok 8: Przejrzyj Wyniki"
   ]
  },
  {
   "cell_type": "code",
   "execution_count": null,
   "metadata": {},
   "outputs": [],
   "source": [
    "print(\"=\" * 80)\n",
    "print(\"📊 DEBATE SUMMARY\")\n",
    "print(\"=\" * 80)\n",
    "print()\n",
    "\n",
    "print(f\"Total cycles: {final_state['cycle_count']}\")\n",
    "print(f\"Final consensus: {final_state.get('current_consensus_score', 0.0):.2f}\")\n",
    "print(f\"Total contributions: {len(final_state['contributions'])}\")\n",
    "print()\n",
    "\n",
    "print(\"=\" * 80)\n",
    "print(\"👤 YOUR INTERVENTIONS\")\n",
    "print(\"=\" * 80)\n",
    "print()\n",
    "\n",
    "feedback_history = final_state.get('human_feedback_history', [])\n",
    "print(f\"Total feedback: {len(feedback_history)}\")\n",
    "\n",
    "if feedback_history:\n",
    "    for i, fb in enumerate(feedback_history, 1):\n",
    "        print(f\"\\n{i}. {fb.get('checkpoint', 'unknown')}\")\n",
    "        print(f\"   Decision: {fb.get('decision', 'unknown')}\")\n",
    "        if fb.get('guidance'):\n",
    "            print(f\"   Guidance: {fb['guidance'][:80]}...\")\n",
    "else:\n",
    "    print(\"No interventions (all auto-approved)\")"
   ]
  },
  {
   "cell_type": "markdown",
   "metadata": {},
   "source": [
    "## 📝 Krok 9: Zobacz Finalny Plan"
   ]
  },
  {
   "cell_type": "code",
   "execution_count": null,
   "metadata": {},
   "outputs": [],
   "source": [
    "if final_state.get('final_plan'):\n",
    "    plan = final_state['final_plan']\n",
    "    \n",
    "    print(\"=\" * 80)\n",
    "    print(\"🎯 FINAL STRATEGIC PLAN\")\n",
    "    print(\"=\" * 80)\n",
    "    print()\n",
    "    \n",
    "    print(\"📋 MISSION OVERVIEW:\")\n",
    "    print(\"-\" * 80)\n",
    "    print(plan.mission_overview)\n",
    "    print()\n",
    "    \n",
    "    print(f\"👥 REQUIRED AGENTS ({len(plan.required_agents)}):\")\n",
    "    print(\"-\" * 80)\n",
    "    for i, agent in enumerate(plan.required_agents[:3], 1):\n",
    "        print(f\"{i}. {agent.role}\")\n",
    "        print(f\"   {agent.description[:100]}...\")\n",
    "    if len(plan.required_agents) > 3:\n",
    "        print(f\"... and {len(plan.required_agents) - 3} more\")\n",
    "    print()\n",
    "    \n",
    "    print(f\"📊 WORKFLOW ({len(plan.workflow)} steps):\")\n",
    "    print(\"-\" * 80)\n",
    "    for step in plan.workflow[:5]:\n",
    "        print(f\"{step.step_id}. {step.description[:80]}...\")\n",
    "    if len(plan.workflow) > 5:\n",
    "        print(f\"... and {len(plan.workflow) - 5} more steps\")\n",
    "    print()\n",
    "    \n",
    "    print(\"⚠️ RISK ANALYSIS:\")\n",
    "    print(\"-\" * 80)\n",
    "    print(plan.risk_analysis[:500] + \"...\")\n",
    "else:\n",
    "    print(\"❌ No final plan generated\")"
   ]
  },
  {
   "cell_type": "markdown",
   "metadata": {},
   "source": [
    "## 💾 Krok 10: Zapisz Wyniki"
   ]
  },
  {
   "cell_type": "code",
   "execution_count": null,
   "metadata": {},
   "outputs": [],
   "source": [
    "import json\n",
    "from datetime import datetime\n",
    "\n",
    "output_dir = Path(\"output\")\n",
    "output_dir.mkdir(exist_ok=True)\n",
    "\n",
    "output_data = {\n",
    "    \"timestamp\": datetime.now().isoformat(),\n",
    "    \"environment\": \"Vertex AI JupyterLab\",\n",
    "    \"ui_type\": \"SimpleCheckpointUI (text-based)\",\n",
    "    \"mission\": final_state[\"mission\"],\n",
    "    \"intervention_mode\": final_state[\"intervention_mode\"],\n",
    "    \"debate_summary\": {\n",
    "        \"total_cycles\": final_state[\"cycle_count\"],\n",
    "        \"final_consensus_score\": final_state.get(\"current_consensus_score\", 0.0),\n",
    "        \"total_contributions\": len(final_state[\"contributions\"]),\n",
    "        \"human_interventions\": len(final_state.get(\"human_feedback_history\", [])),\n",
    "    },\n",
    "    \"human_feedback_history\": final_state.get(\"human_feedback_history\", []),\n",
    "}\n",
    "\n",
    "if final_state.get(\"final_plan\"):\n",
    "    output_data[\"final_plan\"] = final_state[\"final_plan\"].model_dump()\n",
    "\n",
    "timestamp = datetime.now().strftime(\"%Y%m%d_%H%M%S\")\n",
    "output_file = output_dir / f\"vertex_ai_hitl_{timestamp}.json\"\n",
    "\n",
    "with open(output_file, \"w\", encoding=\"utf-8\") as f:\n",
    "    json.dump(output_data, f, indent=2, ensure_ascii=False, default=str)\n",
    "\n",
    "print(f\"✅ Results saved to: {output_file}\")\n",
    "print(f\"📊 File size: {output_file.stat().st_size / 1024:.1f} KB\")"
   ]
  },
  {
   "cell_type": "markdown",
   "metadata": {},
   "source": [
    "## 🎉 Gotowe!\n",
    "\n",
    "### ✅ Dlaczego ta wersja działa lepiej na Vertex AI:\n",
    "\n",
    "1. **Prosty input()** - nie wymaga ipywidgets extension\n",
    "2. **Synchroniczny** - nie ma problemów z async callbacks\n",
    "3. **Uniwersalny** - działa wszędzie (Vertex AI, Colab, Kaggle, lokalnie)\n",
    "4. **Niezawodny** - zero zawieszania kernela\n",
    "\n",
    "### 💡 Różnice vs ipywidgets wersja:\n",
    "\n",
    "| Feature | ipywidgets | Simple UI |\n",
    "|---------|-----------|----------|\n",
    "| Działa na Vertex AI | ❌ Nie | ✅ Tak |\n",
    "| Wymaga rozszerzeń | ✅ Tak | ❌ Nie |\n",
    "| Interfejs | Przyciski | Text prompt |\n",
    "| Zawieszanie kernela | 🟡 Możliwe | ✅ Nigdy |\n",
    "| Setup | Skomplikowany | Prosty |\n",
    "\n",
    "### 🚀 Co dalej:\n",
    "\n",
    "1. **Testuj różne misje** - zmień `MISSION`\n",
    "2. **Eksperymentuj z trybami** - `REVIEWER` vs `COLLABORATOR`\n",
    "3. **Używaj \"Request Revision\"** - wpisz `2` i dodaj guidance\n",
    "4. **Sprawdź feedback history** - zobacz jak agent reaguje na Twoje wskazówki\n",
    "\n",
    "---\n",
    "\n",
    "**Teraz wszystko działa na Vertex AI!** 🎊"
   ]
  }
 ],
 "metadata": {
  "kernelspec": {
   "display_name": "Python 3",
   "language": "python",
   "name": "python3"
  },
  "language_info": {
   "codemirror_mode": {
    "name": "ipython",
    "version": 3
   },
   "file_extension": ".py",
   "mimetype": "text/x-python",
   "name": "python",
   "nbconvert_exporter": "python",
   "pygments_lexer": "ipython3",
   "version": "3.11.0"
  }
 },
 "nbformat": 4,
 "nbformat_minor": 4
}
